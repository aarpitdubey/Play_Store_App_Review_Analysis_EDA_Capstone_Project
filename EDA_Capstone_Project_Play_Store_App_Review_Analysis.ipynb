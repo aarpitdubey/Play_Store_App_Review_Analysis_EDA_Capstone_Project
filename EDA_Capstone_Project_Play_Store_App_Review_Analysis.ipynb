{
  "nbformat": 4,
  "nbformat_minor": 0,
  "metadata": {
    "colab": {
      "private_outputs": true,
      "provenance": [],
      "collapsed_sections": [
        "mDgbUHAGgjLW"
      ],
      "include_colab_link": true
    },
    "kernelspec": {
      "name": "python3",
      "display_name": "Python 3"
    },
    "language_info": {
      "name": "python"
    }
  },
  "cells": [
    {
      "cell_type": "markdown",
      "metadata": {
        "id": "view-in-github",
        "colab_type": "text"
      },
      "source": [
        "<a href=\"https://colab.research.google.com/github/aarpitdubey/Play_Store_App_Review_Analysis_EDA_Capstone_Project/blob/main/EDA_Capstone_Project_Play_Store_App_Review_Analysis.ipynb\" target=\"_parent\"><img src=\"https://colab.research.google.com/assets/colab-badge.svg\" alt=\"Open In Colab\"/></a>"
      ]
    },
    {
      "cell_type": "markdown",
      "source": [
        "# **Project Name**    - **Play Store App Review Analysis**\n",
        "\n",
        "![image.png](data:image/png;base64,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)"
      ],
      "metadata": {
        "id": "vncDsAP0Gaoa"
      }
    },
    {
      "cell_type": "markdown",
      "source": [
        "##### **Project Type**    - **EDA**\n",
        "##### **Contribution**    - **Individual**\n",
        "##### **Author**          - **Arpit Dubey**"
      ],
      "metadata": {
        "id": "beRrZCGUAJYm"
      }
    },
    {
      "cell_type": "markdown",
      "source": [
        "# **Project Summary -**"
      ],
      "metadata": {
        "id": "FJNUwmbgGyua"
      }
    },
    {
      "cell_type": "markdown",
      "source": [
        "**Project Description**\n",
        "\n",
        "**Business Context**\n",
        "\n",
        "<p node=\"[object Object]\" class=\"py-1 text-base overflow-wrap text-justify w-11/12\">The Play Store apps data has enormous potential to drive app-making businesses to success. Actionable insights can be drawn for developers to work on and capture the Android market.\n",
        "Each app (row) has values for category, rating, size, and more. Another dataset contains customer reviews of the android apps.\n",
        "Explore and analyse the data to discover key factors responsible for app engagement and success.</p>\n",
        "\n",
        "**Dataset Description**\n",
        "\n",
        "<p node=\"[object Object]\" class=\"py-1 text-base overflow-wrap text-justify w-11/12\"><img src=\"https://ab-strapi-qa.s3.ap-south-1.amazonaws.com/Playstore_EDA_3dcde2ce2c.png\" alt=\"\" node=\"[object Object]\" class=\"my-4 w-9/12 h-9/12\"></p>\n",
        "<p node=\"[object Object]\" class=\"py-1 text-base overflow-wrap text-justify w-11/12\"><span class=\"text-base font-bold\">Main Libraries to be used:</span></p>\n",
        "<ul depth=\"0\" class=\"list-disc my-4 w-11/12\">\n",
        "<li index=\"0\" class=\"text-base list-inside py-1 listing w-11/12 text-justify\">Pandas for data manipulation, aggregation</li>\n",
        "<li index=\"1\" class=\"text-base list-inside py-1 listing w-11/12 text-justify\">Matplotlib and Seaborn for visualisation and behaviour with respect to the target variable. Use at least 5 different visualisations.</li>\n",
        "<li index=\"2\" class=\"text-base list-inside py-1 listing w-11/12 text-justify\">NumPy for computationally efficient operations</li>\n",
        "</ul>\n",
        "\n",
        "**Project Architecture:**\n",
        "\n",
        "<p node=\"[object Object]\" class=\"py-1 text-base overflow-wrap text-justify w-11/12\"><img src=\"https://ab-strapi-qa.s3.ap-south-1.amazonaws.com/play_store_72be318e16.png\" alt=\"\" node=\"[object Object]\" class=\"my-4 w-9/12 h-9/12\"></p></div></div></div>\n"
      ],
      "metadata": {
        "id": "F6v_1wHtG2nS"
      }
    },
    {
      "cell_type": "markdown",
      "source": [
        "# **GitHub Link -**"
      ],
      "metadata": {
        "id": "w6K7xa23Elo4"
      }
    },
    {
      "cell_type": "markdown",
      "source": [
        "https://github.com/aarpitdubey/Play_Store_App_Review_Analysis_EDA_Capstone_Project/blob/main/EDA_Capstone_Project_Play_Store_App_Review_Analysis.ipynb"
      ],
      "metadata": {
        "id": "h1o69JH3Eqqn"
      }
    },
    {
      "cell_type": "markdown",
      "source": [
        "# **Problem Statement**\n"
      ],
      "metadata": {
        "id": "yQaldy8SH6Dl"
      }
    },
    {
      "cell_type": "markdown",
      "source": [
        "The Play Store apps data has enormous potential to drive app-making businesses to success. Actionable insights can be drawn for developers to work on and capture the Android market.\n",
        "Each app (row) has values for catergory, rating, size, and more. Another dataset contains customer reviews of the android apps.\n",
        "Explore and analyze the data to discover key factors responsible for app engagement and success.\n",
        "\n",
        "\n",
        "*“Amazing things will happen when you listen to the consumer.”* –Jonathan Midenhall, CEO of TwentyFirstCenturyBrand\n",
        "\n",
        "\n",
        "As rightly said by Ex CMO of AirBnB, Jonathan MidenHall, the key to success of any apps lies with the user and it's use case. And what else could possibly lead to a failure if the brand doesn't listen to the customers? Nothing!\n",
        "\n",
        "We have been given two datasets:\n",
        "\n",
        "\n",
        "1.   Play Store Data\n",
        "2.   User review Data\n",
        "\n",
        "\n",
        "Let's dive into the world of App data and see what possible conclusions we could make to increase the app engagement and ensure success by leveraging the power of Python and it's powerful libraries like Pandas, Numpy for Data Manipulation; Matplotlib & Seaborn for beautiful visualisations and several other libraries that could help us throughout journey of data analysis."
      ],
      "metadata": {
        "id": "DpeJGUA3kjGy"
      }
    },
    {
      "cell_type": "markdown",
      "source": [
        "# **General Guidelines** : -  "
      ],
      "metadata": {
        "id": "mDgbUHAGgjLW"
      }
    },
    {
      "cell_type": "markdown",
      "source": [
        "1.   Well-structured, formatted, and commented code is required.\n",
        "2.   Exception Handling, Production Grade Code & Deployment Ready Code will be a plus. Those students will be awarded some additional credits.\n",
        "     \n",
        "     The additional credits will have advantages over other students during Star Student selection.\n",
        "       \n",
        "             [ Note: - Deployment Ready Code is defined as, the whole .ipynb notebook should be executable in one go\n",
        "                       without a single error logged. ]\n",
        "\n",
        "3.   Each and every logic should have proper comments.\n",
        "4. You may add as many number of charts you want. Make Sure for each and every chart the following format should be answered.\n",
        "        \n",
        "\n",
        "```\n",
        "# Chart visualization code\n",
        "```\n",
        "            \n",
        "\n",
        "*   Why did you pick the specific chart?\n",
        "*   What is/are the insight(s) found from the chart?\n",
        "* Will the gained insights help creating a positive business impact?\n",
        "Are there any insights that lead to negative growth? Justify with specific reason.\n",
        "\n",
        "5. You have to create at least 15 logical & meaningful charts having important insights.\n",
        "\n",
        "\n",
        "[ Hints : - Do the Vizualization in  a structured way while following \"UBM\" Rule.\n",
        "\n",
        "U - Univariate Analysis,\n",
        "\n",
        "B - Bivariate Analysis (Numerical - Categorical, Numerical - Numerical, Categorical - Categorical)\n",
        "\n",
        "M - Multivariate Analysis\n",
        " ]\n",
        "\n",
        "\n",
        "\n",
        "\n",
        "\n",
        "6. You may add more ml algorithms for model creation. Make sure for each and every algorithm, the following format should be answered.\n",
        "\n",
        "\n",
        "*   Explain the ML Model used and it's performance using Evaluation metric Score Chart.\n",
        "\n",
        "\n",
        "*   Cross- Validation & Hyperparameter Tuning\n",
        "\n",
        "*   Have you seen any improvement? Note down the improvement with updates Evaluation metric Score Chart.\n",
        "\n",
        "*   Explain each evaluation metric's indication towards business and the business impact pf the ML model used.\n",
        "\n",
        "\n",
        "\n",
        "\n",
        "\n",
        "\n",
        "\n",
        "\n",
        "\n",
        "\n",
        "\n",
        "\n",
        "\n",
        "\n",
        "\n",
        "\n",
        "\n",
        "\n"
      ],
      "metadata": {
        "id": "ZrxVaUj-hHfC"
      }
    },
    {
      "cell_type": "markdown",
      "source": [
        "# ***Let's Begin !***"
      ],
      "metadata": {
        "id": "O_i_v8NEhb9l"
      }
    },
    {
      "cell_type": "markdown",
      "source": [
        "## ***1. Know Your Data***"
      ],
      "metadata": {
        "id": "HhfV-JJviCcP"
      }
    },
    {
      "cell_type": "markdown",
      "source": [
        "### Import Libraries"
      ],
      "metadata": {
        "id": "Y3lxredqlCYt"
      }
    },
    {
      "cell_type": "code",
      "source": [
        "# Import Libraries\n",
        "import pandas as pd\n",
        "import missingno as msno\n",
        "import seaborn as sns\n",
        "import matplotlib.pyplot as plt\n",
        "import numpy as np\n",
        "import math\n",
        "from os import path\n",
        "from PIL import Image\n",
        "from wordcloud import WordCloud, STOPWORDS, ImageColorGenerator\n",
        "import warnings\n",
        "\n",
        "# Disable all warnings\n",
        "warnings.filterwarnings(\"ignore\")"
      ],
      "metadata": {
        "id": "M8Vqi-pPk-HR"
      },
      "execution_count": null,
      "outputs": []
    },
    {
      "cell_type": "markdown",
      "source": [
        "### Dataset Loading"
      ],
      "metadata": {
        "id": "3RnN4peoiCZX"
      }
    },
    {
      "cell_type": "code",
      "source": [
        "# Load Dataset\n",
        "\n",
        "# Load Play Store Data\n",
        "play_store_data = pd.read_csv('play_store_data.csv')\n",
        "\n",
        "# Load User Review Data\n",
        "user_review_data = pd.read_csv('user_review_data.csv')\n"
      ],
      "metadata": {
        "id": "4CkvbW_SlZ_R"
      },
      "execution_count": null,
      "outputs": []
    },
    {
      "cell_type": "markdown",
      "source": [
        "### Dataset First View"
      ],
      "metadata": {
        "id": "x71ZqKXriCWQ"
      }
    },
    {
      "cell_type": "code",
      "source": [
        "# View first few rows of Play Store Data\n",
        "print(\"Play Store Data:\")\n",
        "play_store_data.head()\n"
      ],
      "metadata": {
        "id": "LWNFOSvLl09H"
      },
      "execution_count": null,
      "outputs": []
    },
    {
      "cell_type": "code",
      "source": [
        "# View first few rows of User Review Data\n",
        "print(\"\\nUser Review Data:\")\n",
        "user_review_data.head()"
      ],
      "metadata": {
        "id": "Lqt2Zssl4U4t"
      },
      "execution_count": null,
      "outputs": []
    },
    {
      "cell_type": "markdown",
      "source": [
        "### Dataset Rows & Columns count"
      ],
      "metadata": {
        "id": "7hBIi_osiCS2"
      }
    },
    {
      "cell_type": "code",
      "source": [
        "# Dataset Rows & Columns count\n",
        "# Rows and columns count for Play Store Data\n",
        "play_store_rows, play_store_columns = play_store_data.shape\n",
        "print(\"Play Store Data Rows: \", play_store_rows)\n",
        "print(\"Play Store Data Columns: \", play_store_columns)\n",
        "\n",
        "# Rows and columns count for User Review Data\n",
        "user_review_rows, user_review_columns = user_review_data.shape\n",
        "print(\"\\nUser Review Data Rows: \", user_review_rows)\n",
        "print(\"User Review Data Columns: \", user_review_columns)"
      ],
      "metadata": {
        "id": "Kllu7SJgmLij"
      },
      "execution_count": null,
      "outputs": []
    },
    {
      "cell_type": "markdown",
      "source": [
        "### Dataset Information"
      ],
      "metadata": {
        "id": "JlHwYmJAmNHm"
      }
    },
    {
      "cell_type": "code",
      "source": [
        "# Information about Play Store Data\n",
        "print(\"Play Store Data Information:\\n\")\n",
        "print(play_store_data.info())\n",
        "\n",
        "print(\"\\n\")\n",
        "print(\"-\"*80)\n",
        "print(\"\\n\")\n",
        "\n",
        "# Information about User Review Data\n",
        "print(\"\\nUser Review Data Information:\\n\")\n",
        "print(user_review_data.info())\n"
      ],
      "metadata": {
        "id": "e9hRXRi6meOf"
      },
      "execution_count": null,
      "outputs": []
    },
    {
      "cell_type": "markdown",
      "source": [
        "#### Duplicate Values"
      ],
      "metadata": {
        "id": "35m5QtbWiB9F"
      }
    },
    {
      "cell_type": "code",
      "source": [
        "# Dataset Duplicate Value Count\n",
        "\n",
        "# Count of duplicate values in Play Store Data\n",
        "play_store_duplicates = play_store_data.duplicated().sum()\n",
        "print(\"Duplicate values in Play Store Data: \", play_store_duplicates)\n",
        "\n",
        "# Count of duplicate values in User Review Data\n",
        "user_review_duplicates = user_review_data.duplicated().sum()\n",
        "print(\"\\nDuplicate values in User Review Data: \", user_review_duplicates)\n"
      ],
      "metadata": {
        "id": "1sLdpKYkmox0"
      },
      "execution_count": null,
      "outputs": []
    },
    {
      "cell_type": "markdown",
      "source": [
        "#### Missing Values/Null Values"
      ],
      "metadata": {
        "id": "PoPl-ycgm1ru"
      }
    },
    {
      "cell_type": "code",
      "source": [
        "# Count of missing values in Play Store Data\n",
        "play_store_missing_values = play_store_data.isnull().sum()\n",
        "print(\"Missing values in Play Store Data:\\n\", play_store_missing_values)\n",
        "\n",
        "# Count of missing values in User Review Data\n",
        "user_review_missing_values = user_review_data.isnull().sum()\n",
        "print(\"\\nMissing values in User Review Data:\\n\", user_review_missing_values)\n"
      ],
      "metadata": {
        "id": "GgHWkxvamxVg"
      },
      "execution_count": null,
      "outputs": []
    },
    {
      "cell_type": "code",
      "source": [
        "# Visualizing the missing values\n",
        "\n",
        "# Set the color palette\n",
        "sns.set_palette(\"viridis\")\n",
        "\n",
        "# Visualize missing values in Play Store Data\n",
        "plt.figure(figsize=(8, 6))\n",
        "msno.matrix(play_store_data, color=(0.25, 0.4, 0.8))\n",
        "plt.title(\"Missing Values - Play Store Data\")\n",
        "plt.show()\n",
        "\n",
        "# Visualize missing values in User Review Data\n",
        "plt.figure(figsize=(8, 6))\n",
        "msno.matrix(user_review_data, color=(0.25, 0.4, 0.8))\n",
        "plt.title(\"Missing Values - User Review Data\")\n",
        "plt.show()"
      ],
      "metadata": {
        "id": "3q5wnI3om9sJ"
      },
      "execution_count": null,
      "outputs": []
    },
    {
      "cell_type": "code",
      "source": [
        "# Visualize missing values in Play Store Data\n",
        "plt.figure(figsize=(10, 8))\n",
        "msno.bar(play_store_data, color='skyblue', fontsize=12)\n",
        "plt.title('Missing Values - Play Store Data', fontsize=14)\n",
        "plt.show()\n",
        "\n",
        "# Visualize missing values in User Review Data\n",
        "plt.figure(figsize=(10, 8))\n",
        "msno.bar(user_review_data, color='lightcoral', fontsize=12)\n",
        "plt.title('Missing Values - User Review Data', fontsize=14)\n",
        "plt.show()"
      ],
      "metadata": {
        "id": "CIm1W45gBU7d"
      },
      "execution_count": null,
      "outputs": []
    },
    {
      "cell_type": "markdown",
      "source": [
        "### What did you know about your dataset?"
      ],
      "metadata": {
        "id": "H0kj-8xxnORC"
      }
    },
    {
      "cell_type": "markdown",
      "source": [
        "### OBSERVATIONS :\n",
        "\n",
        "### 1. Dataset Rows & Columns Count:\n",
        "\n",
        "The **Play Store Data has 10,841 rows and 13 columns**.\n",
        "The **User Review Data has 64,295 rows and 5 columns**.\n",
        "The Play Store Data has more rows compared to the User Review Data, indicating that it contains information about more apps.\n",
        "\n",
        "### 2. Dataset Information:\n",
        "\n",
        "#### Play Store Data:\n",
        "- The Play Store Data has columns such as App, Category, Rating, Reviews, Size, Installs, Type, Price, Content Rating, Genres, Last Updated, Current Ver, and Android Ver.\n",
        "\n",
        "- The data types in the Play Store Data include float64 and object (string).\n",
        "\n",
        "- The **Rating column has 9,367 non-null value**s, indicating that there are some missing values in this column.\n",
        "\n",
        "- Several other columns also have missing values.\n",
        "\n",
        "\n",
        "#### User Review Data:\n",
        "- The User Review Data has columns such as App, Translated_Review, Sentiment, Sentiment_Polarity, and Sentiment_Subjectivity.\n",
        "\n",
        "- The data types in the User Review Data include float64 and object (string).\n",
        "The Translated_Review, Sentiment, Sentiment_Polarity, and Sentiment_Subjectivity columns have missing values.\n",
        "\n",
        "\n",
        "\n",
        "### 3. Dataset Duplicate Value Count:\n",
        "\n",
        "- The **Play Store Data has 483 duplicate values**.\n",
        "- The **User Review Data has 33,616 duplicate values**.\n",
        "- Duplicate values can be problematic for analysis as they may **skew the results**. It would be important to handle these duplicates appropriately.\n",
        "\n",
        "### 4. Missing/Null Values:\n",
        "\n",
        "#### Play Store Data:\n",
        "- The **Rating column has 1,474 missing values**, which is a considerable amount.\n",
        "- The missing values in other columns are relatively small.\n",
        "\n",
        "#### User Review Data:\n",
        "- The **Translated_Review, Sentiment, Sentiment_Polarity, and Sentiment_Subjectivity** columns have a significant number of missing values (**around 26,863**).\n",
        "- Missing values can impact the analysis and need to be handled carefully. Depending on the specific analysis tasks, you may need to handle or impute the missing values."
      ],
      "metadata": {
        "id": "gfoNAAC-nUe_"
      }
    },
    {
      "cell_type": "markdown",
      "source": [
        "## ***2. Understanding Your Variables***"
      ],
      "metadata": {
        "id": "nA9Y7ga8ng1Z"
      }
    },
    {
      "cell_type": "code",
      "source": [
        "# Dataset Columns\n",
        "# Get column names for Play Store Data\n",
        "play_store_columns = play_store_data.columns.tolist()\n",
        "print(\"Play Store Data Columns:\")\n",
        "print(play_store_columns)\n",
        "\n",
        "# Get column names for User Review Data\n",
        "user_review_columns = user_review_data.columns.tolist()\n",
        "print(\"\\nUser Review Data Columns:\")\n",
        "print(user_review_columns)"
      ],
      "metadata": {
        "id": "j7xfkqrt5Ag5"
      },
      "execution_count": null,
      "outputs": []
    },
    {
      "cell_type": "code",
      "source": [
        "# Dataset Describe\n",
        "# Summary statistics for Play Store Data\n",
        "play_store_description = play_store_data.describe()\n",
        "print(\"Play Store Data Description:\")\n",
        "print(play_store_description)\n",
        "\n",
        "# Summary statistics for User Review Data\n",
        "user_review_description = user_review_data.describe()\n",
        "print(\"\\nUser Review Data Description:\")\n",
        "print(user_review_description)"
      ],
      "metadata": {
        "id": "DnOaZdaE5Q5t"
      },
      "execution_count": null,
      "outputs": []
    },
    {
      "cell_type": "markdown",
      "source": [
        "### Variables Description"
      ],
      "metadata": {
        "id": "PBTbrJXOngz2"
      }
    },
    {
      "cell_type": "markdown",
      "source": [
        "## Observations:\n",
        "\n",
        "#### Play Store Data:\n",
        "\n",
        "- Rating: The ratings range from 1 to 19, with an average rating of 4.19.\n",
        "- The standard deviation of 0.54 indicates some variability in the ratings. The majority of ratings fall between 4 and 4.5, as indicated by the 25th, 50th, and 75th percentiles.\n",
        "\n",
        "#### User Review Data:\n",
        "\n",
        "- Sentiment Polarity: The sentiment polarity values range from -1 to 1, with an average polarity of 0.18. The standard deviation of 0.35 indicates some variation in the sentiment polarity. The polarity represents the sentiment of the reviews, where negative values indicate negative sentiment, positive values indicate positive sentiment, and 0 indicates a neutral sentiment.\n",
        "\n",
        "- Sentiment Subjectivity: The sentiment subjectivity values range from 0 to 1, with an average subjectivity of 0.49. The standard deviation of 0.26 indicates some variability in the subjectivity. The subjectivity represents the extent to which the reviews express personal opinions rather than factual information.\n",
        "\n",
        "## Conclusions:\n",
        "\n",
        "#### Play Store Data:\n",
        "\n",
        "- The average rating of 4.19 suggests that the majority of apps in the Play Store have relatively positive ratings.\n",
        "- The presence of ratings above 5 and the maximum rating of 19 might indicate some outliers or inconsistencies in the data that require further investigation.\n",
        "- The distribution of ratings between the 25th and 75th percentiles suggests that most apps have ratings between 4 and 4.5, with some variability.\n",
        "\n",
        "#### User Review Data:\n",
        "\n",
        "- The sentiment polarity values indicate that the majority of reviews have a positive sentiment, as the average polarity is positive (0.18).\n",
        "- The sentiment subjectivity values suggest that the reviews are moderately subjective, with an average subjectivity of 0.49.\n",
        "- The distribution of sentiment polarity and subjectivity, as shown by the quartiles, indicates some variability in the sentiment expressed by users in the reviews.\n",
        "\n",
        "### NOTE:\n",
        "**Sentiment Polarity:**\n",
        "Sentiment polarity refers to the measure of whether a piece of text (in this case, user reviews) expresses a positive, negative, or neutral sentiment. It's like determining whether someone's opinion or feeling about something is positive, negative, or neither. Sentiment polarity is usually represented as a numerical value ranging from -1 to 1. A value closer to -1 indicates a more negative sentiment, a value closer to 1 indicates a more positive sentiment, and a value of 0 indicates a neutral sentiment.\n",
        "\n",
        "For example, if a user review has a sentiment polarity of -0.5, it means that the review expresses a somewhat negative opinion or feeling about the app. On the other hand, a sentiment polarity of 0.8 would indicate a positive sentiment, implying that the review expresses a positive opinion or feelings.\n",
        "<br /><br />\n",
        "\n",
        "**Sentiment Subjectivity:**\n",
        "Sentiment subjectivity measures the extent to which a piece of text (such as user reviews) expresses personal opinions or subjective information rather than objective or factual information. It's like determining how much of the content is based on someone's personal perspective or feelings rather than being purely informational or factual. Sentiment subjectivity is usually represented as a numerical value ranging from 0 to 1. A value closer to 0 indicates more objective or factual content, while a value closer to 1 indicates more subjective or opinion-based content.\n",
        "\n",
        "For example, if a user review has a sentiment subjectivity of 0.3, it means that the review contains mostly factual information about the app rather than personal opinions. On the other hand, a sentiment subjectivity of 0.8 would suggest that the review includes a lot of personal opinions and subjective views."
      ],
      "metadata": {
        "id": "aJV4KIxSnxay"
      }
    },
    {
      "cell_type": "markdown",
      "source": [
        "### Check Unique Values for each variable."
      ],
      "metadata": {
        "id": "u3PMJOP6ngxN"
      }
    },
    {
      "cell_type": "code",
      "source": [
        "# Check Unique Values for each variable.\n",
        "# Unique values for each variable in Play Store Data\n",
        "print(\"Unique Values - Play Store Data:\\n\")\n",
        "for column in play_store_data.columns:\n",
        "    unique_values = play_store_data[column].unique()\n",
        "    print(f\"{list(play_store_data.columns).index(column)+1}. {column} : {unique_values}\\n\")\n",
        "\n",
        "# Unique values for each variable in User Review Data\n",
        "print(\"\\nUnique Values - User Review Data:\\n\")\n",
        "for column in user_review_data.columns:\n",
        "    unique_values = user_review_data[column].unique()\n",
        "    print(f\"{list(user_review_data.columns).index(column)+1}. {column}: {unique_values}\\n\")\n"
      ],
      "metadata": {
        "id": "zms12Yq5n-jE"
      },
      "execution_count": null,
      "outputs": []
    },
    {
      "cell_type": "markdown",
      "source": [
        "## 3. ***Data Wrangling***"
      ],
      "metadata": {
        "id": "dauF4eBmngu3"
      }
    },
    {
      "cell_type": "markdown",
      "source": [
        "### Data Wrangling Code - Play store data"
      ],
      "metadata": {
        "id": "bKJF3rekwFvQ"
      }
    },
    {
      "cell_type": "markdown",
      "source": [
        "**Data Inspection**: Get an initial understanding of the data by inspecting its structure, columns, and values.\n",
        "\n",
        "- Use the head() function to view the first few rows of the dataset.\n",
        "- Use the tail() function to view the last few rows of the dataset.\n",
        "- Use info() to check the data types and identify any missing values.\n",
        "\n",
        "We already done this step above.\n",
        "\n",
        "This time to manipulate the data:\n",
        "\n",
        "## Conclusion: Cleaning-up of dataset is required so let's begin\n",
        "\n",
        "\n",
        "1. Data needs cleaning\n",
        "2. Possible datatype conversions\n",
        "3. Presence of outliers & anomalies\n",
        "\n",
        "# Data Cleaning\n",
        "\n",
        "1. Handling missing values: Identify and handle missing values in the dataset. This can involve strategies such as imputation (replacing missing values with estimated values) or removal of rows/columns with missing values.\n",
        "\n",
        "2. Handling duplicate values: Identify and handle duplicate values in the dataset. This can involve removing or merging duplicate rows.\n",
        "\n",
        "3. Handling inconsistent data: Identify and handle inconsistent data, such as inconsistent formatting, inconsistent units, or conflicting values. This may require standardizing data formats, converting units, or resolving conflicts.\n",
        "\n",
        "4. Handling outliers: Identify and handle outliers, which are extreme values that deviate significantly from the majority of the data. This can involve removing outliers or applying appropriate statistical techniques to handle them.\n",
        "\n",
        "5. Data type conversion: Convert data types of variables to the appropriate format. For example, converting string variables to numeric or categorical variables as needed.\n",
        "\n",
        "6. Standardizing data: Standardize data to a consistent format or scale. This can involve normalizing numeric data or transforming variables to a common scale.\n",
        "\n",
        "7. Handling inconsistent or erroneous data entries: Identify and handle inconsistent or erroneous data entries, such as typos, incorrect values, or invalid entries. This may involve manual data validation or using specific rules or algorithms to identify and correct errors.\n",
        "\n",
        "8. Removing unnecessary variables: Identify and remove unnecessary variables that are not relevant to the analysis or do not provide meaningful information.\n",
        "\n",
        "9. Data integration: Integrate multiple datasets or sources if applicable, by merging or joining them based on common variables or keys.\n",
        "\n",
        "10. Data formatting: Format data to ensure consistency and compatibility across the dataset. This may involve renaming variables, reordering columns, or applying consistent naming conventions."
      ],
      "metadata": {
        "id": "hHr_fNYbPYC1"
      }
    },
    {
      "cell_type": "code",
      "source": [
        "# Handling Duplicate Data\n",
        "play_store_data.duplicated().sum()"
      ],
      "metadata": {
        "id": "DZ93Jdv2Wr3j"
      },
      "execution_count": null,
      "outputs": []
    },
    {
      "cell_type": "code",
      "source": [
        "# Remove duplicate rows\n",
        "play_store_data = play_store_data.drop_duplicates()"
      ],
      "metadata": {
        "id": "hNX7hADsYChz"
      },
      "execution_count": null,
      "outputs": []
    },
    {
      "cell_type": "code",
      "source": [
        "play_store_data.duplicated().sum()"
      ],
      "metadata": {
        "id": "tP5728qOYMNM"
      },
      "execution_count": null,
      "outputs": []
    },
    {
      "cell_type": "markdown",
      "source": [
        "## **Handling missing values**"
      ],
      "metadata": {
        "id": "l12t9UukY63i"
      }
    },
    {
      "cell_type": "code",
      "source": [
        "# checking null values in play_store_data\n",
        "play_store_data.isnull().sum()"
      ],
      "metadata": {
        "id": "ZOl5MeEzZC8j"
      },
      "execution_count": null,
      "outputs": []
    },
    {
      "cell_type": "code",
      "source": [
        "# Drop rows with missing values in specific columns using \"8% rule\"\n",
        "# if missing values are less >8% of data than it's better to drop them\n",
        "# 'Type' : Percentage = (1/10357) * 100 = 0.009651% - DROP!\n",
        "# 'Content Rating' : Percentage = (1/10357) * 100 = 0.009651% - DROP!\n",
        "# 'Current Ver' : Percentage = (8/10350) * 100 = 0.077262% - DROP!\n",
        "# 'Android Ver' : Percentage = (3/10355) * 100 = 0.028973% - DROP!\n",
        "# 'Rating' : Percentage = (1456/8893) * 100 = 16.36% - CANNOT DROP! - Impute it!!\n",
        "play_store_data = play_store_data.dropna(subset=['Type', 'Content Rating', 'Current Ver', 'Android Ver'])\n",
        "\n",
        "# Impute missing values with the median\n",
        "play_store_data[\"Rating\"].fillna(play_store_data[\"Rating\"].median(), inplace=True)"
      ],
      "metadata": {
        "id": "BeHP3mYrase7"
      },
      "execution_count": null,
      "outputs": []
    },
    {
      "cell_type": "code",
      "source": [
        "play_store_data.isnull().sum()"
      ],
      "metadata": {
        "id": "aah23BxKctR6"
      },
      "execution_count": null,
      "outputs": []
    },
    {
      "cell_type": "code",
      "source": [
        "# Create box plots for each numeric column\n",
        "plt.figure(figsize=(12, 6))\n",
        "play_store_data.boxplot()\n",
        "plt.xticks(rotation=0)\n",
        "plt.title('Box plots - Play Store Data')\n",
        "plt.show()"
      ],
      "metadata": {
        "id": "FSL0z-WZfgYC"
      },
      "execution_count": null,
      "outputs": []
    },
    {
      "cell_type": "code",
      "source": [
        "# Data Type Conversion\n",
        "play_store_data['Reviews'] = play_store_data['Reviews'].astype(int)\n",
        "play_store_data['Installs'] = play_store_data['Installs'].str.replace(',', '').str.replace('+', '').astype(int)\n",
        "play_store_data['Price'] = play_store_data['Price'].str.replace('$', '').astype(float)\n",
        "\n",
        "# Data Cleaning and Transformation\n",
        "play_store_data['Size'] = play_store_data['Size'].str.replace('M', '').str.replace('k','').str.replace('+', '').replace('Varies with device', np.nan).astype(float)"
      ],
      "metadata": {
        "id": "-w2ww10SzjIP"
      },
      "execution_count": null,
      "outputs": []
    },
    {
      "cell_type": "code",
      "source": [
        "# Calculate the IQR for each numeric column\n",
        "Q1 = play_store_data.quantile(0.25)\n",
        "Q3 = play_store_data.quantile(0.75)\n",
        "IQR = Q3 - Q1\n",
        "\n",
        "# Find outliers for each column\n",
        "outliers = ((play_store_data < (Q1 - 1.5 * IQR)) | (play_store_data > (Q3 + 1.5 * IQR))).any()\n"
      ],
      "metadata": {
        "id": "ecHx1r7ckCgp"
      },
      "execution_count": null,
      "outputs": []
    },
    {
      "cell_type": "code",
      "source": [
        "# Print the columns with outliers\n",
        "print(\"Columns with outliers:\")\n",
        "print(outliers[outliers].index.tolist())"
      ],
      "metadata": {
        "id": "77bx6ltKkNwR"
      },
      "execution_count": null,
      "outputs": []
    },
    {
      "cell_type": "code",
      "source": [
        "# Rating has the heighest value of 5 let see if we have some more than that\n",
        "play_store_data[play_store_data.Rating > 5]"
      ],
      "metadata": {
        "id": "RkIGyAEZf4sD"
      },
      "execution_count": null,
      "outputs": []
    },
    {
      "cell_type": "code",
      "source": [
        "play_store_data.isnull().sum()"
      ],
      "metadata": {
        "id": "_d6tAfWSiDly"
      },
      "execution_count": null,
      "outputs": []
    },
    {
      "cell_type": "code",
      "source": [
        "# Impute missing values with the median\n",
        "play_store_data[\"Size\"].fillna(play_store_data[\"Size\"].median(), inplace=True)"
      ],
      "metadata": {
        "id": "A9iPRYSIiRpH"
      },
      "execution_count": null,
      "outputs": []
    },
    {
      "cell_type": "code",
      "source": [
        "play_store_data.isnull().sum()"
      ],
      "metadata": {
        "id": "tLR6N3dUia7v"
      },
      "execution_count": null,
      "outputs": []
    },
    {
      "cell_type": "code",
      "source": [
        "# NOTE : Because the outliers are below lower fence therefore, they are not necessarily important to handle.\n",
        "# From the below Algorithm we can handle the outliers but from experimenting I personally won't find it helpful\n",
        "\n",
        "# def outlier_imputer(i):\n",
        "#   # Calculate the lower and upper fences\n",
        "#   Q1 = np.percentile(play_store_data[i], 25)\n",
        "#   Q3 = np.percentile(play_store_data[i], 75)\n",
        "#   IQR = Q3 - Q1\n",
        "#   lower_fence = Q1 - 1.5 * IQR\n",
        "#   upper_fence = Q3 + 1.5 * IQR\n",
        "\n",
        "#   # Impute values above the upper fence with the upper fence value\n",
        "#   play_store_data[i] = np.where(play_store_data[i] > upper_fence, upper_fence, play_store_data[i])\n",
        "\n",
        "#   # Impute values below the lower fence with the lower fence value\n",
        "#   play_store_data[i] = np.where(play_store_data[i] < lower_fence, lower_fence, play_store_data[i])\n",
        "\n",
        "# if __name__==\"__main__\":\n",
        "#   outlier_col = ['Rating', 'Installs', 'Price', 'Reviews', 'Size']\n",
        "#   for i in outlier_col:\n",
        "#     outlier_imputer(i)"
      ],
      "metadata": {
        "id": "F8c9PjbcuK_o"
      },
      "execution_count": null,
      "outputs": []
    },
    {
      "cell_type": "code",
      "source": [
        "# # Calculate the IQR for each numeric column\n",
        "# Q1 = play_store_data.quantile(0.25)\n",
        "# Q3 = play_store_data.quantile(0.75)\n",
        "# IQR = Q3 - Q1\n",
        "\n",
        "# # Find outliers for each column\n",
        "# outliers = ((play_store_data < (Q1 - 1.5 * IQR)) | (play_store_data > (Q3 + 1.5 * IQR))).any()"
      ],
      "metadata": {
        "id": "HOfAaDV2upo5"
      },
      "execution_count": null,
      "outputs": []
    },
    {
      "cell_type": "code",
      "source": [
        "# # Print the columns with outliers\n",
        "# print(\"Columns with outliers:\")\n",
        "# print(outliers[outliers].index.tolist())"
      ],
      "metadata": {
        "id": "ARNaGFM2uuHA"
      },
      "execution_count": null,
      "outputs": []
    },
    {
      "cell_type": "markdown",
      "source": [
        "### What all manipulations have you done and insights you found?"
      ],
      "metadata": {
        "id": "MSa1f5Uengrz"
      }
    },
    {
      "cell_type": "markdown",
      "source": [
        "#### 1. Drop Duplicated rows because they are just 483 / 10358, the percentage of 483 out of 10358 is approximately 4.66% which is less than 8% rule.\n",
        "\n",
        "#### 2. Handled missing values by dropping those rows of various features which have leser percentage than the 8% rule and impute those which are having greator percentage of missing values than 8% rule.\n",
        "\n",
        "#### 3. Checking Outliers using box-plot\n"
      ],
      "metadata": {
        "id": "LbyXE7I1olp8"
      }
    },
    {
      "cell_type": "markdown",
      "source": [
        "## **PLAY STORE DATASET**"
      ],
      "metadata": {
        "id": "E9fFdPkLQVJQ"
      }
    },
    {
      "cell_type": "markdown",
      "source": [
        "### ***Univariate Analysis***"
      ],
      "metadata": {
        "id": "GF8Ens_Soomf"
      }
    },
    {
      "cell_type": "markdown",
      "source": [
        "#### 1.  Category : Application of different genres or groups"
      ],
      "metadata": {
        "id": "FPZeLIUAd96F"
      }
    },
    {
      "cell_type": "markdown",
      "source": [
        "#### Barplot"
      ],
      "metadata": {
        "id": "Ft7rgt8aoWCA"
      }
    },
    {
      "cell_type": "code",
      "source": [
        "play_store_data['Category'].unique()"
      ],
      "metadata": {
        "id": "HpR9WeRS2BQv"
      },
      "execution_count": null,
      "outputs": []
    },
    {
      "cell_type": "code",
      "source": [
        "play_store_data['Category'].value_counts()"
      ],
      "metadata": {
        "id": "tukeeiGN2RAu"
      },
      "execution_count": null,
      "outputs": []
    },
    {
      "cell_type": "code",
      "source": [
        "# Assuming you have loaded the Play Store Data into a DataFrame called 'play_store_data'\n",
        "# You can count the occurrences of each category\n",
        "category_counts = play_store_data['Category'].value_counts()\n",
        "\n",
        "# Sort the category counts in descending order\n",
        "category_counts = category_counts.sort_values(ascending=False)\n",
        "\n",
        "# Plotting the category popularity in decreasing order (horizontal bar plot using Seaborn)\n",
        "plt.figure(figsize=(12, 8))\n",
        "sns.barplot(x=category_counts.values, y=category_counts.index, orient='h')\n",
        "plt.xlabel('Popular Apps Count')\n",
        "plt.ylabel('Category')\n",
        "plt.title('Top categories on Google Playstore')\n",
        "plt.tight_layout()\n",
        "plt.show()\n",
        "\n"
      ],
      "metadata": {
        "id": "5jV0gizQ2rdX"
      },
      "execution_count": null,
      "outputs": []
    },
    {
      "cell_type": "markdown",
      "source": [
        "##### 1. Why did you pick the specific chart?"
      ],
      "metadata": {
        "id": "K5QZ13OEpz2H"
      }
    },
    {
      "cell_type": "markdown",
      "source": [
        "Answer: It is useful for visualizing the distribution, comparison, or relationship between different categories or groups of data. It can be used to display the frequency, count, or any other aggregated value associated with each category."
      ],
      "metadata": {
        "id": "XESiWehPqBRc"
      }
    },
    {
      "cell_type": "markdown",
      "source": [
        "##### 2. What is/are the insight(s) found from the chart?"
      ],
      "metadata": {
        "id": "lQ7QKXXCp7Bj"
      }
    },
    {
      "cell_type": "markdown",
      "source": [
        "\n",
        "Answer: There are total of 33 categories in the play_store_data dataset from the above output we can come to the conclusion that in the play store most of the apps are under *Family & Game* categories and least are of *Beauty & Parenting* Categories."
      ],
      "metadata": {
        "id": "C_j1G7yiqdRP"
      }
    },
    {
      "cell_type": "markdown",
      "source": [
        "##### 3. Will the gained insights help creating a positive business impact?\n",
        "Are there any insights that lead to negative growth? Justify with specific reason."
      ],
      "metadata": {
        "id": "448CDAPjqfQr"
      }
    },
    {
      "cell_type": "markdown",
      "source": [
        "Answer: Yes, the gained insights is extremly helpful as an organization business point of view and an individual business point of view because of this chart we come to know:\n",
        "\n",
        "1. **Identifying popular categories:** By analyzing the category popularity, businesses can focus on developing apps in categories that have high demand and user engagement. This can lead to increased downloads, user retention, and revenue generation.\n",
        "\n",
        "2. **Understanding user sentiment:** Analyzing user reviews and sentiment can provide insights into user satisfaction, preferences, and pain points. This information can be utilized to improve app features, address customer concerns, and enhance the overall user experience.\n",
        "\n",
        "3. **Pricing strategies:** Analyzing the price distribution and user behavior towards paid and free apps can help businesses determine optimal pricing strategies. This includes setting the right price point, offering in-app purchases, or adopting a freemium model to maximize revenue.\n",
        "\n",
        "Here's an example of a potential negative impact:\n",
        "\n",
        "**Poor app ratings:** If the analysis reveals that a significant number of apps have low ratings, it indicates dissatisfaction among users. This could be due to various factors such as usability issues, performance problems, or lack of desired features. It is crucial for businesses to address these issues promptly and take corrective actions to improve app quality and user satisfaction."
      ],
      "metadata": {
        "id": "3cspy4FjqxJW"
      }
    },
    {
      "cell_type": "markdown",
      "source": [
        "#### 2. Rating : Has the ratings given to different apps ranging from 0 - 5"
      ],
      "metadata": {
        "id": "KSlN3yHqYklG"
      }
    },
    {
      "cell_type": "markdown",
      "source": [
        "#### Histogram"
      ],
      "metadata": {
        "id": "-lMMTstRl0me"
      }
    },
    {
      "cell_type": "code",
      "source": [
        "plt.figure(figsize=(10, 6))\n",
        "plt.hist(play_store_data['Rating'].dropna(), bins=10, edgecolor='k')\n",
        "plt.xlabel('Rating')\n",
        "plt.ylabel('Count')\n",
        "plt.title('Distribution of App Ratings')\n",
        "plt.show()"
      ],
      "metadata": {
        "id": "-iw8S5CYkNKX"
      },
      "execution_count": null,
      "outputs": []
    },
    {
      "cell_type": "markdown",
      "source": [
        "##### 1. Why did you pick the specific chart?"
      ],
      "metadata": {
        "id": "kwERvLQsl0mm"
      }
    },
    {
      "cell_type": "markdown",
      "source": [
        "Answer : I picked a histogram chart for the distribution of app ratings because it provides a clear visualization of the rating values and their frequency of occurrence. A histogram is suitable for understanding the distribution and spread of a continuous numerical variable, which in this case is the app ratings."
      ],
      "metadata": {
        "id": "33x_1igil0mm"
      }
    },
    {
      "cell_type": "markdown",
      "source": [
        "##### 2. What is/are the insight(s) found from the chart?"
      ],
      "metadata": {
        "id": "XiEKGlVFl0mm"
      }
    },
    {
      "cell_type": "markdown",
      "source": [
        "Answer : From the chart, we can observe the distribution of app ratings across different bins. The x-axis represents the rating values, and the y-axis represents the count or frequency of apps falling into each rating bin. We can see how many apps have ratings in each range."
      ],
      "metadata": {
        "id": "wap6AXUel0mm"
      }
    },
    {
      "cell_type": "markdown",
      "source": [
        "##### 3. Will the gained insights help creating a positive business impact?\n",
        "Are there any insights that lead to negative growth? Justify with specific reason."
      ],
      "metadata": {
        "id": "VAw67jYNl0mm"
      }
    },
    {
      "cell_type": "markdown",
      "source": [
        "Answer : The gained insights can potentially help in creating a positive business impact. By analyzing the distribution of app ratings, businesses can understand the overall satisfaction level of users and identify areas for improvement. For example, if there is a large number of apps with high ratings, it indicates positive user feedback and suggests that the apps are meeting user expectations. This can lead to increased user satisfaction and potentially drive more downloads and positive reviews, which can positively impact the business.\n",
        "\n",
        "However, it's important to note that negative insights or lower ratings can also be valuable for improving the quality of apps and addressing user concerns. If there is a significant number of apps with lower ratings, it may indicate areas that need attention and improvement. By addressing these issues, businesses can strive to enhance their apps, address user feedback, and ultimately improve user satisfaction and business performance."
      ],
      "metadata": {
        "id": "QVEkcOFul0mm"
      }
    },
    {
      "cell_type": "code",
      "source": [
        "play_store_data['Rating'].unique()"
      ],
      "metadata": {
        "id": "R4YgtaqtYklH"
      },
      "execution_count": null,
      "outputs": []
    },
    {
      "cell_type": "code",
      "source": [
        "above_4_rating = play_store_data[play_store_data['Rating']>4]\n",
        "above_4_rating.Rating.value_counts()"
      ],
      "metadata": {
        "id": "Genp1ze3-jwu"
      },
      "execution_count": null,
      "outputs": []
    },
    {
      "cell_type": "code",
      "source": [
        "# Create a bar plot of average rating count\n",
        "plt.figure(figsize=(15, 6))\n",
        "sns.countplot(x='Rating', data=play_store_data)\n",
        "plt.xlabel('Average Rating')\n",
        "plt.ylabel('Count')\n",
        "plt.title('Count of Apps with Average Rating')\n",
        "plt.xticks(rotation=90)\n",
        "plt.show()"
      ],
      "metadata": {
        "id": "nVRHfkQu_GId"
      },
      "execution_count": null,
      "outputs": []
    },
    {
      "cell_type": "code",
      "source": [
        "#visualizing count of apps with average rating\n",
        "plt.figure(figsize = (15, 6))\n",
        "sns.countplot(x='Rating',data=play_store_data,order=play_store_data.Rating.value_counts().index)\n",
        "plt.title('Count of Apps with Ratings')\n",
        "plt.show()"
      ],
      "metadata": {
        "id": "5qAgFFFl_jpu"
      },
      "execution_count": null,
      "outputs": []
    },
    {
      "cell_type": "markdown",
      "source": [
        "#### CountPlot"
      ],
      "metadata": {
        "id": "oashq3CZmu8w"
      }
    },
    {
      "cell_type": "code",
      "source": [
        "#visualizing count of apps with average rating\n",
        "plt.figure(figsize = (15, 6))\n",
        "sns.countplot(x='Rating',data=play_store_data,order=play_store_data.Rating.value_counts().index)\n",
        "plt.title('Count of Apps with Ratings')\n",
        "plt.show()"
      ],
      "metadata": {
        "id": "b5hKbcbJnf6g"
      },
      "execution_count": null,
      "outputs": []
    },
    {
      "cell_type": "markdown",
      "source": [
        "##### 1. Why did you pick the specific chart?"
      ],
      "metadata": {
        "id": "PtYxSTOCaEdX"
      }
    },
    {
      "cell_type": "markdown",
      "source": [
        "Answer :\n",
        "I picked this specific chart, which is a count plot, because you wanted to visualize the count of apps with different average ratings. A count plot is a suitable choice for this scenario because it allows us to display the frequency or count of each rating category in a clear and concise manner.\n",
        "\n",
        "- The count plot provides a visual representation of the distribution of ratings among the apps in the dataset. By using the sns.countplot function, you created a bar chart where the x-axis represents the different rating categories (1 to 5), and the height of each bar represents the count of apps with that particular rating.\n",
        "\n",
        "- The count plot helps me understand the distribution of ratings and identify the most common rating categories among the apps. This information can be valuable for analyzing the popularity or satisfaction level of the apps in terms of user ratings.\n",
        "\n",
        "Overall, the count plot I used effectively presents the count of apps with each rating category, allowing for easy comparison and interpretation of the rating distribution."
      ],
      "metadata": {
        "id": "neu1mvhiaG0e"
      }
    },
    {
      "cell_type": "markdown",
      "source": [
        "##### 2. What is/are the insight(s) found from the chart?"
      ],
      "metadata": {
        "id": "NaUxoPNwbyEU"
      }
    },
    {
      "cell_type": "markdown",
      "source": [
        "Answer :\n",
        "\n",
        "**Observations:**\n",
        "\n",
        "1. Most apps have an average rating between 4.0 and 4.5. This indicates that a significant number of apps are well-received by users, as they have received higher ratings.\n",
        "\n",
        "2. The count of apps decreases as the average rating increases beyond 4.5. This suggests that fewer apps have exceptionally high ratings, indicating that achieving a very high rating is relatively rare.\n",
        "\n",
        "3. There is a long tail on the left side of the plot, indicating that some apps have lower ratings. However, the count of such apps is relatively low compared to the apps with higher ratings.\n",
        "\n",
        "4. The distribution of average ratings is skewed to the right, with a higher concentration of apps towards the higher rating values. This suggests that the majority of apps in the dataset tend to have positive ratings.\n",
        "\n",
        "**Conclusion:**\n",
        "\n",
        "Based on these observations, we can conclude that the majority of apps in the dataset have relatively high average ratings, indicating that they are generally well-received by users. This could be a positive indicator for developers and businesses, as it suggests that there is a demand for high-quality apps in the market."
      ],
      "metadata": {
        "id": "MVKRdLGtbyEc"
      }
    },
    {
      "cell_type": "markdown",
      "source": [
        "##### 3. Will the gained insights help creating a positive business impact?\n",
        "Are there any insights that lead to negative growth? Justify with specific reason."
      ],
      "metadata": {
        "id": "UNu1YKLvbjvb"
      }
    },
    {
      "cell_type": "markdown",
      "source": [
        "Answer :    \n",
        "\n",
        "**Observations :**\n",
        "\n",
        "1. Positive Business Impact: The majority of apps in the dataset have relatively high average ratings. This indicates that users are generally satisfied with these apps. Developers and businesses can leverage this insight to focus on developing high-quality apps that align with user preferences. By prioritizing user satisfaction and delivering valuable app experiences, businesses have a higher chance of attracting and retaining users, leading to positive growth and potential business success.\n",
        "\n",
        "2. Negative Growth Insights: While the count plot does not directly indicate any insights that lead to negative growth, there are a few factors that businesses should be cautious about:\n",
        "\n",
        "  - (i) Lower-rated Apps: Although the count of lower-rated apps is relatively low compared to higher-rated apps, businesses should pay attention to these apps. Consistently low ratings may indicate issues with app quality, functionality, or user experience. Addressing and improving these areas can help prevent negative growth and improve overall user satisfaction.\n",
        "\n",
        "  - (ii) Competition: The plot does not provide information about the competitive landscape or the specific market segment. Businesses need to consider the competitive environment and ensure their apps stand out from the competition. Analyzing factors like app features, pricing strategies, user feedback, and market trends can help businesses differentiate themselves and avoid negative growth due to strong competition.\n",
        "\n",
        "  - (iii) User Feedback: While the count plot does not directly incorporate user feedback, it is essential for businesses to actively listen to user reviews and address any concerns or issues raised by users. Negative feedback, if left unattended, can potentially lead to negative growth and a decline in user satisfaction. By actively engaging with users, resolving issues, and continuously improving the app based on user feedback, businesses can foster a positive environment and drive growth.\n",
        "\n",
        "Conclusion :\n",
        "\n",
        "In conclusion, the gained insights from the count plot can contribute to a positive business impact by emphasizing the importance of high-quality apps and user satisfaction. However, businesses should be cautious of lower-rated apps, stay competitive, and actively address user feedback to avoid negative growth and maintain a positive trajectory.\n"
      ],
      "metadata": {
        "id": "0uRiZbpUaege"
      }
    },
    {
      "cell_type": "markdown",
      "source": [
        "#### 3. Reviews"
      ],
      "metadata": {
        "id": "P0CExg6SopoQ"
      }
    },
    {
      "cell_type": "markdown",
      "source": [
        "#### Histogram"
      ],
      "metadata": {
        "id": "-NfFdzidfgLE"
      }
    },
    {
      "cell_type": "code",
      "source": [
        "plt.figure(figsize=(10, 6))\n",
        "plt.hist(play_store_data['Reviews'], bins=50, edgecolor='k')\n",
        "plt.xlabel('Number of Reviews')\n",
        "plt.ylabel('Count')\n",
        "plt.title('Distribution of App Reviews')\n",
        "plt.show()"
      ],
      "metadata": {
        "id": "R9_D3_tto0OA"
      },
      "execution_count": null,
      "outputs": []
    },
    {
      "cell_type": "markdown",
      "source": [
        "##### 1. Why did you pick the specific chart?"
      ],
      "metadata": {
        "id": "t6dVpIINYklI"
      }
    },
    {
      "cell_type": "markdown",
      "source": [
        "Answer : I picked a histogram chart for the distribution of app reviews because it provides a visual representation of the frequency or count of app reviews within different ranges or bins. A histogram is suitable for analyzing the distribution and spread of a numerical variable like the number of reviews."
      ],
      "metadata": {
        "id": "5aaW0BYyYklI"
      }
    },
    {
      "cell_type": "markdown",
      "source": [
        "##### 2. What is/are the insight(s) found from the chart?"
      ],
      "metadata": {
        "id": "ijmpgYnKYklI"
      }
    },
    {
      "cell_type": "markdown",
      "source": [
        "Answer : From the chart, we can observe the distribution of app reviews across different bins. The x-axis represents the number of reviews, and the y-axis represents the count or frequency of apps falling into each review count bin. We can see how many apps have a certain number of reviews."
      ],
      "metadata": {
        "id": "PSx9atu2YklI"
      }
    },
    {
      "cell_type": "markdown",
      "source": [
        "##### 3. Will the gained insights help creating a positive business impact?\n",
        "Are there any insights that lead to negative growth? Justify with specific reason."
      ],
      "metadata": {
        "id": "-JiQyfWJYklI"
      }
    },
    {
      "cell_type": "markdown",
      "source": [
        "Answer : The gained insights from the distribution of app reviews can potentially help in creating a positive business impact. By analyzing the distribution, businesses can understand the popularity and engagement level of their apps. If there are a large number of apps with a high number of reviews, it indicates that these apps have gained significant attention and user engagement. This can suggest positive user experiences, higher app usage, and potentially increased app downloads, which can positively impact the business.\n",
        "\n",
        "On the other hand, if there is a skew towards a lower number of reviews or a significant number of apps with a low review count, it may indicate lower user engagement and limited visibility of the apps. This insight can help businesses identify areas for improvement in terms of marketing, user experience, and overall app quality, leading to potential growth opportunities.\n",
        "\n",
        "It's important to note that the specific impact on business growth would depend on various factors, such as the nature of the apps, competition, and target audience. However, analyzing the distribution of app reviews can provide valuable insights for businesses to make data-driven decisions and strategies to enhance their app performance and drive positive business outcomes."
      ],
      "metadata": {
        "id": "BcBbebzrYklV"
      }
    },
    {
      "cell_type": "markdown",
      "source": [
        "#### KDE Plot"
      ],
      "metadata": {
        "id": "EM7whBJCYoAo"
      }
    },
    {
      "cell_type": "code",
      "source": [
        "plt.figure(figsize=(10, 6))\n",
        "sns.kdeplot(play_store_data['Reviews'], shade=True)\n",
        "plt.xlabel('Number of Reviews')\n",
        "plt.ylabel('Density')\n",
        "plt.title('Density of App Review Counts')\n",
        "plt.show()"
      ],
      "metadata": {
        "id": "t6GMdE67YoAp"
      },
      "execution_count": null,
      "outputs": []
    },
    {
      "cell_type": "markdown",
      "source": [
        "##### 1. Why did you pick the specific chart?"
      ],
      "metadata": {
        "id": "fge-S5ZAYoAp"
      }
    },
    {
      "cell_type": "markdown",
      "source": [
        "Answer : The specific chart, a KDE plot, was chosen to visualize the density of review counts. KDE plots are effective in representing the distribution of a continuous variable, providing insights into the concentration and spread of the data."
      ],
      "metadata": {
        "id": "5dBItgRVYoAp"
      }
    },
    {
      "cell_type": "markdown",
      "source": [
        "##### 2. What is/are the insight(s) found from the chart?"
      ],
      "metadata": {
        "id": "85gYPyotYoAp"
      }
    },
    {
      "cell_type": "markdown",
      "source": [
        "Answer : From the KDE plot, we can observe the density distribution of review counts. The plot shows the areas of higher and lower density, indicating the concentration of review counts at different levels. This can help identify modes or peaks in the density, suggesting different levels of app popularity based on review counts."
      ],
      "metadata": {
        "id": "4jstXR6OYoAp"
      }
    },
    {
      "cell_type": "markdown",
      "source": [
        "##### 3. Will the gained insights help creating a positive business impact?\n",
        "Are there any insights that lead to negative growth? Justify with specific reason."
      ],
      "metadata": {
        "id": "RoGjAbkUYoAp"
      }
    },
    {
      "cell_type": "markdown",
      "source": [
        "Answer : The gained insights from the KDE plot can indeed help create a positive business impact. By understanding the density distribution of review counts, businesses can identify the range of review counts that correspond to higher app popularity. This information can inform decision-making related to marketing strategies, feature enhancements, or customer engagement efforts to further promote positive app experiences.\n",
        "\n",
        "Are there any insights that lead to negative growth? Justify with specific reason.\n",
        "While the KDE plot provides insights into the distribution of review counts, it does not directly indicate negative growth. Negative growth would typically be identified by analyzing other aspects, such as decreasing review counts over time or a significant decline in overall app ratings. The KDE plot specifically focuses on the density of review counts and may not directly reveal negative growth patterns without additional analysis."
      ],
      "metadata": {
        "id": "zfJ8IqMcYoAp"
      }
    },
    {
      "cell_type": "markdown",
      "source": [
        "#### 4. Install"
      ],
      "metadata": {
        "id": "dIlEa42AqyWG"
      }
    },
    {
      "cell_type": "markdown",
      "source": [
        "#### **Count Plot - Bar Plot**"
      ],
      "metadata": {
        "id": "4Of9eVA-YrdM"
      }
    },
    {
      "cell_type": "code",
      "source": [
        "plt.figure(figsize=(10, 6))\n",
        "sns.countplot(x='Installs', data=play_store_data)\n",
        "plt.xlabel('Installs')\n",
        "plt.ylabel('Count')\n",
        "plt.title('Count of Apps in Each Installation Category')\n",
        "plt.xticks(rotation=45)\n",
        "plt.show()\n"
      ],
      "metadata": {
        "id": "irlUoxc8YrdO"
      },
      "execution_count": null,
      "outputs": []
    },
    {
      "cell_type": "code",
      "source": [
        "plt.figure(figsize = (10,7))\n",
        "sns.countplot(y='Installs',data=play_store_data,order=play_store_data.Installs.value_counts().index)\n",
        "plt.title('Install wise count')\n",
        "plt.show()"
      ],
      "metadata": {
        "id": "DRRqPC-mBkoG"
      },
      "execution_count": null,
      "outputs": []
    },
    {
      "cell_type": "markdown",
      "source": [
        "##### 1. Why did you pick the specific chart?"
      ],
      "metadata": {
        "id": "iky9q4vBYrdO"
      }
    },
    {
      "cell_type": "markdown",
      "source": [
        "Answer : The bar plot was chosen to display the count or percentage of apps in each installation category, providing a clear representation of the distribution. The donut chart was selected to show the proportion of apps in each installation category, making it easier to visualize the relative distribution of apps."
      ],
      "metadata": {
        "id": "aJRCwT6DYrdO"
      }
    },
    {
      "cell_type": "markdown",
      "source": [
        "##### 2. What is/are the insight(s) found from the chart?"
      ],
      "metadata": {
        "id": "F6T5p64dYrdO"
      }
    },
    {
      "cell_type": "markdown",
      "source": [
        "Answer : From the bar plot, we can observe the count or percentage of apps in each installation category, identifying the popularity and frequency of installations across different categories. The donut chart provides a visual representation of the proportion of apps in each installation category, highlighting the relative distribution of apps."
      ],
      "metadata": {
        "id": "Xx8WAJvtYrdO"
      }
    },
    {
      "cell_type": "markdown",
      "source": [
        "##### 3. Will the gained insights help creating a positive business impact?\n",
        "Are there any insights that lead to negative growth? Justify with specific reason."
      ],
      "metadata": {
        "id": "y-Ehk30pYrdP"
      }
    },
    {
      "cell_type": "markdown",
      "source": [
        "Answer : Yes, the gained insights from these charts can help create a positive business impact. By understanding the distribution of app installations across different categories, businesses can identify popular categories and target their marketing efforts accordingly. This information can also guide decision-making related to app development, feature enhancements, and monetization strategies.\n",
        "\n",
        "Negative growth insights cannot be directly derived from these charts alone. The bar plot and donut chart focus on the distribution and proportion of app installations, which do not directly indicate negative growth. Negative growth would typically be identified by analyzing other factors such as decreasing installation counts over time, declining user ratings, or negative customer reviews. Additional analysis beyond these charts would be required to identify negative growth patterns."
      ],
      "metadata": {
        "id": "jLNxxz7MYrdP"
      }
    },
    {
      "cell_type": "markdown",
      "source": [
        "#### **Donut Plot**"
      ],
      "metadata": {
        "id": "bamQiAODYuh1"
      }
    },
    {
      "cell_type": "code",
      "source": [
        "# Chart - 5 visualization code\n",
        "plt.figure(figsize=(14, 14))\n",
        "installs_counts = play_store_data['Installs'].value_counts()\n",
        "plt.pie(installs_counts, labels=installs_counts.index, autopct='%1.1f%%', startangle=90)\n",
        "plt.axis('equal')\n",
        "plt.title('Proportion of Apps in Each Installation Category')\n",
        "plt.legend()\n",
        "plt.show()\n"
      ],
      "metadata": {
        "id": "TIJwrbroYuh3"
      },
      "execution_count": null,
      "outputs": []
    },
    {
      "cell_type": "markdown",
      "source": [
        "##### 1. Why did you pick the specific chart?"
      ],
      "metadata": {
        "id": "QHF8YVU7Yuh3"
      }
    },
    {
      "cell_type": "markdown",
      "source": [
        "Answer : The bar plot and donut chart were chosen to visualize the distribution and proportion of app installations across different categories. The bar plot provides a clear representation of the count or percentage of apps in each installation category, while the donut chart gives a visual overview of the proportion of apps in each category, emphasizing the relative"
      ],
      "metadata": {
        "id": "dcxuIMRPYuh3"
      }
    },
    {
      "cell_type": "markdown",
      "source": [
        "##### 2. What is/are the insight(s) found from the chart?"
      ],
      "metadata": {
        "id": "GwzvFGzlYuh3"
      }
    },
    {
      "cell_type": "markdown",
      "source": [
        "Answer : The insights obtained from the donut chart reinforce the findings from the bar plot, highlighting the significant proportion of apps in the \"1000000\" installation category. This suggests a considerable number of apps with a large user base, indicating popular and widely-used applications. On the other hand, the low proportion of apps in the \"0\" installation category confirms that there are relatively fewer apps with minimal or no installations."
      ],
      "metadata": {
        "id": "uyqkiB8YYuh3"
      }
    },
    {
      "cell_type": "markdown",
      "source": [
        "##### 3. Will the gained insights help creating a positive business impact?\n",
        "Are there any insights that lead to negative growth? Justify with specific reason."
      ],
      "metadata": {
        "id": "qYpmQ266Yuh3"
      }
    },
    {
      "cell_type": "markdown",
      "source": [
        "Answer : Yes, the gained insights can help create a positive business impact. By understanding the distribution and proportion of app installations, businesses can identify popular categories and make informed decisions regarding their app development, marketing, and monetization strategies. They can focus their resources on categories with high user demand and engagement, potentially leading to increased app downloads, user satisfaction, and revenue generation.\n",
        "\n",
        "Based on the information provided by the donut chart, it does not directly indicate insights that lead to negative growth. However, it's important to note that the absence of apps or a very low proportion in certain installation categories, such as the \"0\" category, may suggest a lack of user interest or limited market potential for apps with no installations. In such cases, it would be essential to evaluate the reasons behind the low installations and consider adjustments in the app's features, marketing strategies, or target audience to drive growth and user engagement."
      ],
      "metadata": {
        "id": "_WtzZ_hCYuh4"
      }
    },
    {
      "cell_type": "markdown",
      "source": [
        "### ***Bivariate Analysis***"
      ],
      "metadata": {
        "id": "Nsc3XtPDHp9M"
      }
    },
    {
      "cell_type": "markdown",
      "source": [
        "#### **Scatter Plot**"
      ],
      "metadata": {
        "id": "U2RJ9gkRphqQ"
      }
    },
    {
      "cell_type": "code",
      "source": [
        "plt.figure(figsize=(10, 6))\n",
        "plt.scatter(play_store_data['Reviews'], play_store_data['Rating'])\n",
        "plt.xlabel('Reviews')\n",
        "plt.ylabel('Rating')\n",
        "plt.title('Scatter Plot of Reviews vs Rating')\n",
        "plt.show()"
      ],
      "metadata": {
        "id": "GM7a4YP4phqQ"
      },
      "execution_count": null,
      "outputs": []
    },
    {
      "cell_type": "markdown",
      "source": [
        "##### 1. Why did you pick the specific chart?"
      ],
      "metadata": {
        "id": "1M8mcRywphqQ"
      }
    },
    {
      "cell_type": "markdown",
      "source": [
        "Answer : I picked the specific chart, which is a scatter plot, to visualize the relationship between the number of reviews and the rating of apps in the play_store_data dataset. This plot allows us to examine how the rating of an app is related to the number of reviews it has received."
      ],
      "metadata": {
        "id": "8agQvks0phqQ"
      }
    },
    {
      "cell_type": "markdown",
      "source": [
        "##### 2. What is/are the insight(s) found from the chart?"
      ],
      "metadata": {
        "id": "tgIPom80phqQ"
      }
    },
    {
      "cell_type": "markdown",
      "source": [
        "Answer : From the scatter plot, we can gain the following insights:\n",
        "\n",
        "- There is no clear linear relationship between the number of reviews and the rating of the apps. The data points are scattered across different ratings for various review counts.\n",
        "- There is a concentration of apps with a high number of reviews and ratings between 4 and 5. This suggests that popular apps with a large number of reviews tend to have higher ratings.\n",
        "- There are also apps with a relatively low number of reviews but still have high ratings. This indicates that user satisfaction can be high even for apps with fewer reviews."
      ],
      "metadata": {
        "id": "Qp13pnNzphqQ"
      }
    },
    {
      "cell_type": "markdown",
      "source": [
        "##### 3. Will the gained insights help creating a positive business impact?\n",
        "Are there any insights that lead to negative growth? Justify with specific reason."
      ],
      "metadata": {
        "id": "JMzcOPDDphqR"
      }
    },
    {
      "cell_type": "markdown",
      "source": [
        "Answer : The gained insights can help in creating a positive business impact by understanding the relationship between reviews and ratings:\n",
        "\n",
        "- Monitoring and encouraging positive reviews can contribute to higher ratings and improved app reputation.\n",
        "- Identifying and addressing negative reviews can help improve app ratings and user satisfaction.\n",
        "- Focusing on providing a great user experience and delivering value to users can result in positive reviews and higher ratings.\n",
        "\n",
        "There are no specific insights from the scatter plot that directly indicate negative growth. However, negative growth could potentially occur if the number of negative reviews increases or if the overall rating of the apps consistently decreases over time. Regularly monitoring and addressing negative feedback can help mitigate potential negative growth."
      ],
      "metadata": {
        "id": "R4Ka1PC2phqR"
      }
    },
    {
      "cell_type": "markdown",
      "source": [
        "### ***Multi-variate Analysis***"
      ],
      "metadata": {
        "id": "Dpcd1RcwT4QI"
      }
    },
    {
      "cell_type": "markdown",
      "source": [
        "#### **Pair Plot**"
      ],
      "metadata": {
        "id": "x-EpHcCOp1ci"
      }
    },
    {
      "cell_type": "code",
      "source": [
        "sns.pairplot(play_store_data[['Rating', 'Reviews', 'Installs', 'Price']])\n",
        "plt.show()"
      ],
      "metadata": {
        "id": "mAQTIvtqp1cj"
      },
      "execution_count": null,
      "outputs": []
    },
    {
      "cell_type": "markdown",
      "source": [
        "##### 1. Why did you pick the specific chart?"
      ],
      "metadata": {
        "id": "X_VqEhTip1ck"
      }
    },
    {
      "cell_type": "markdown",
      "source": [
        "Answer : I picked the specific chart, which is a scatter plot matrix, to visualize the pairwise relationships between the numerical variables (Rating, Reviews, Installs, Price) in the play_store_data dataset. This plot allows us to observe the patterns, trends, and potential correlations between these variables."
      ],
      "metadata": {
        "id": "-vsMzt_np1ck"
      }
    },
    {
      "cell_type": "markdown",
      "source": [
        "##### 2. What is/are the insight(s) found from the chart?"
      ],
      "metadata": {
        "id": "8zGJKyg5p1ck"
      }
    },
    {
      "cell_type": "markdown",
      "source": [
        "Answer : From the scatter plot matrix, we can gain the following insights:\n",
        "\n",
        "- There seems to be a positive correlation between Reviews and Installs, indicating that apps with more reviews tend to have more installations.\n",
        "\n",
        "- The majority of apps have a Rating between 4 and 5, regardless of the number of Reviews, Installs, or Price.\n",
        "\n",
        "- There is a wide range of Reviews, Installs, and Price values, indicating the presence of both popular and less popular apps."
      ],
      "metadata": {
        "id": "ZYdMsrqVp1ck"
      }
    },
    {
      "cell_type": "markdown",
      "source": [
        "##### 3. Will the gained insights help creating a positive business impact?\n",
        "Are there any insights that lead to negative growth? Justify with specific reason."
      ],
      "metadata": {
        "id": "PVzmfK_Ep1ck"
      }
    },
    {
      "cell_type": "markdown",
      "source": [
        "Answer : The gained insights can help in creating a positive business impact by understanding the relationships between the variables and making informed decisions. For example:\n",
        "\n",
        "- The positive correlation between Reviews and Installs suggests that increasing the number of reviews through targeted marketing or user engagement strategies can potentially lead to higher app installations.\n",
        "- The observation that the majority of apps have high ratings (between 4 and 5) regardless of other factors indicates the importance of focusing on delivering high-quality apps to maintain positive user experiences and attract more installations.\n",
        "\n",
        "There are no insights from the scatter plot matrix that directly indicate negative growth. However, further analysis and consideration of other factors specific to the business context may be required to identify any potential negative growth indicators.\n",
        "\n",
        "\n",
        "\n",
        "\n"
      ],
      "metadata": {
        "id": "druuKYZpp1ck"
      }
    },
    {
      "cell_type": "markdown",
      "source": [
        "## ***Question and Analysis***"
      ],
      "metadata": {
        "id": "jUoXwXWiZPGt"
      }
    },
    {
      "cell_type": "markdown",
      "source": [
        "### Category of Apps with highest number of installs"
      ],
      "metadata": {
        "id": "KiFuYBSWMtWn"
      }
    },
    {
      "cell_type": "code",
      "source": [
        "# Calculate total installs for each category\n",
        "category_installs = play_store_data.groupby('Category')['Installs'].sum().sort_values(ascending=False)\n",
        "\n",
        "# Plotting the category with highest installs\n",
        "plt.figure(figsize=(10, 6))\n",
        "category_installs.plot(kind='bar')\n",
        "plt.xlabel('Category')\n",
        "plt.ylabel('Total Installs')\n",
        "plt.title('Category of Apps with Highest Installs')\n",
        "plt.show()\n",
        "\n",
        "# Print the category with the highest installs\n",
        "highest_installs_category = category_installs.idxmax()\n",
        "print(\"Category with the highest number of installs:\", highest_installs_category)\n"
      ],
      "metadata": {
        "id": "OC1gx22vNFSh"
      },
      "execution_count": null,
      "outputs": []
    },
    {
      "cell_type": "markdown",
      "source": [
        "##### 1. Why did you pick the specific chart?"
      ],
      "metadata": {
        "id": "IRkWM0oXOgTw"
      }
    },
    {
      "cell_type": "markdown",
      "source": [
        "Answer : I picked the bar chart because it effectively displays the total number of installs for each category in a clear and concise manner. The bar chart allows for easy comparison between categories and identifies the category with the highest installs."
      ],
      "metadata": {
        "id": "qYtkaA1AOgT2"
      }
    },
    {
      "cell_type": "markdown",
      "source": [
        "##### 2. What is/are the insight(s) found from the chart?"
      ],
      "metadata": {
        "id": "3pE4hCj7OWSj"
      }
    },
    {
      "cell_type": "markdown",
      "source": [
        "Answer : The insights from the chart are:\n",
        "\n",
        "- The category with the highest number of installs is \"GAME\".\n",
        "- The categories with the next highest installs are \"COMMUNICATION\", \"SOCIAL\", \"PRODUCTIVITY\", \"TOOLS\", and \"FAMILY\" in descending order."
      ],
      "metadata": {
        "id": "JIjsuv_VOWSj"
      }
    },
    {
      "cell_type": "markdown",
      "source": [
        "##### 3. Will the gained insights help creating a positive business impact?\n",
        "Are there any insights that lead to negative growth? Justify with specific reason."
      ],
      "metadata": {
        "id": "PYddxENqOWSj"
      }
    },
    {
      "cell_type": "markdown",
      "source": [
        "Answer : The gained insights can help create a positive business impact as they highlight the categories that are most popular among users in terms of installs. This information can be valuable for app developers, marketers, and businesses in the respective categories. They can focus their efforts on these popular categories to drive more downloads, engagement, and potentially increase revenue.\n",
        "\n",
        "There are no insights in the chart that indicate negative growth. However, if a particular category has a significantly lower number of installs compared to others, it may suggest lower demand or user interest in that category. Businesses operating in that category may need to analyze the reasons behind this lower demand and strategize accordingly to improve growth and user engagement."
      ],
      "metadata": {
        "id": "14S-2f2IOWSk"
      }
    },
    {
      "cell_type": "markdown",
      "source": [
        "#### Correlation Heatmap"
      ],
      "metadata": {
        "id": "NC_X3p0fY2L0"
      }
    },
    {
      "cell_type": "code",
      "source": [
        "# Correlation Heatmap visualization code\n",
        "plt.figure(figsize=(10, 8))\n",
        "corr_matrix = play_store_data[['Rating', 'Reviews', 'Installs', 'Price']].corr()\n",
        "sns.heatmap(corr_matrix, annot=True, cmap='coolwarm')\n",
        "plt.title('Correlation Heatmap')\n",
        "plt.show()"
      ],
      "metadata": {
        "id": "xyC9zolEZNRQ"
      },
      "execution_count": null,
      "outputs": []
    },
    {
      "cell_type": "markdown",
      "source": [
        "Answer : I picked the specific chart, which is a correlation heatmap, to visualize the correlation between the numerical features ('Rating', 'Reviews', 'Installs', 'Price') in the play_store_data dataset. This plot allows us to easily interpret the strength and direction of the relationships between these variables."
      ],
      "metadata": {
        "id": "DVPuT8LYZNRQ"
      }
    },
    {
      "cell_type": "markdown",
      "source": [
        "##### 1. Why did you pick the specific chart?"
      ],
      "metadata": {
        "id": "fCZ5DEKML14j"
      }
    },
    {
      "cell_type": "markdown",
      "source": [
        "Answer : I picked the specific chart, which is a correlation heatmap, to visualize the correlation between the numerical features ('Rating', 'Reviews', 'Installs', 'Price') in the play_store_data dataset. This plot allows us to easily interpret the strength and direction of the relationships between these variables."
      ],
      "metadata": {
        "id": "OY4v4LobL14p"
      }
    },
    {
      "cell_type": "markdown",
      "source": [
        "##### 2. What is/are the insight(s) found from the chart?"
      ],
      "metadata": {
        "id": "YPEH6qLeZNRQ"
      }
    },
    {
      "cell_type": "markdown",
      "source": [
        "Answer : Insights from the correlation heatmap:\n",
        "\n",
        "- The correlation matrix shows the pairwise correlation coefficients between the variables.\n",
        "- The values in the matrix range from -1 to 1, where a value of 1 represents a perfect positive correlation, 0 represents no correlation, and -1 represents a perfect negative correlation.\n",
        "- From the matrix, we can observe the following insights:\n",
        "  - There is a positive but weak correlation between 'Rating' and 'Reviews' (0.063), indicating that apps with higher ratings tend to have slightly more reviews.\n",
        "  - There is a positive correlation between 'Reviews' and 'Installs' (0.634), indicating that apps with more reviews tend to have a higher number of installations.\n",
        "  - There is a negative but weak correlation between 'Rating' and 'Price' (-0.019), suggesting that higher-priced apps tend to have slightly lower ratings.\n",
        "  - There is a weak correlation between 'Installs' and 'Price' (-0.011), implying that higher-priced apps may have slightly fewer installations.\n",
        "\n"
      ],
      "metadata": {
        "id": "bfSqtnDqZNRR"
      }
    },
    {
      "cell_type": "markdown",
      "source": [
        "##### 3. Will the gained insights help creating a positive business impact?\n",
        "Are there any insights that lead to negative growth? Justify with specific reason."
      ],
      "metadata": {
        "id": "UV0SzAkaZNRQ"
      }
    },
    {
      "cell_type": "markdown",
      "source": [
        "Answer : The gained insights can help in creating a positive business impact:\n",
        "\n",
        "- By focusing on improving app ratings, developers can potentially attract more reviews, leading to increased app installations and a positive business impact.\n",
        "- Pricing strategies can be adjusted based on the observed correlation between 'Rating' and 'Price'. Lowering the price of the app or offering promotions/discounts may result in higher ratings and increased downloads.\n",
        "\n",
        "There are no significant insights from the correlation heatmap that directly indicate negative growth. However, the weak negative correlation between 'Rating' and 'Price' suggests that setting a higher price for the app may have a slight negative impact on the app's rating. It is important to consider the value proposition and market demand when setting prices to avoid negative growth."
      ],
      "metadata": {
        "id": "NYk9bYBEMAgl"
      }
    },
    {
      "cell_type": "markdown",
      "source": [
        "### TOP 10 Most Downloaded Apps"
      ],
      "metadata": {
        "id": "FLztzSt6PdI9"
      }
    },
    {
      "cell_type": "code",
      "source": [
        "top_10_downloaded_apps = play_store_data.nlargest(18, 'Installs')[['App', 'Type', 'Installs']]\n",
        "top_10_downloaded_apps\n"
      ],
      "metadata": {
        "id": "rIZc3-Y5PyuB"
      },
      "execution_count": null,
      "outputs": []
    },
    {
      "cell_type": "code",
      "source": [
        "# Plotting the top 10 downloaded apps\n",
        "plt.figure(figsize=(10, 6))\n",
        "plt.barh(top_10_downloaded_apps['App'], top_10_downloaded_apps['Installs'])\n",
        "plt.xlabel('Number of Installs')\n",
        "plt.ylabel('App')\n",
        "plt.title('Top 10 Most Downloaded Apps')\n",
        "plt.gca().invert_yaxis()  # Invert the y-axis to show highest downloads at the top\n",
        "plt.show()"
      ],
      "metadata": {
        "id": "f-JzrTr9QuDg"
      },
      "execution_count": null,
      "outputs": []
    },
    {
      "cell_type": "markdown",
      "source": [
        "Here, Some of the apps are repeating too. But finally the above graph shows the top 10 Apps those are mostly downloaded."
      ],
      "metadata": {
        "id": "opW-mUH9RC_3"
      }
    },
    {
      "cell_type": "code",
      "source": [
        "# Filter the dataset for apps in the \"Business\" category\n",
        "business_apps = play_store_data[play_store_data['Category'] == 'BUSINESS']\n",
        "\n",
        "# Sort the business apps based on the number of installs in descending order\n",
        "top_10_business_apps = business_apps.sort_values(by='Installs', ascending=False).head(10)\n",
        "\n",
        "# Display the top 10 business apps\n",
        "top_10_business_apps[['App', 'Installs']]\n"
      ],
      "metadata": {
        "id": "rXWebYDVSteg"
      },
      "execution_count": null,
      "outputs": []
    },
    {
      "cell_type": "code",
      "source": [
        "# Plotting the top 10 business apps\n",
        "plt.figure(figsize=(10, 6))\n",
        "plt.bar(top_10_business_apps['App'], top_10_business_apps['Installs'])\n",
        "plt.xlabel('App')\n",
        "plt.ylabel('Installs')\n",
        "plt.title('Top 10 Business Apps by Installs')\n",
        "plt.xticks(rotation=90)\n",
        "plt.show()"
      ],
      "metadata": {
        "id": "c7F6UEfcS-5J"
      },
      "execution_count": null,
      "outputs": []
    },
    {
      "cell_type": "markdown",
      "source": [
        "1. mWhy did you pick the specific chart?\n",
        "\n",
        "- I picked a bar plot because it is suitable for comparing the number of installs of different apps. It provides a clear visual representation of the popularity of each app in the top 10 list.\n",
        "\n",
        "2. What is/are the insight(s) found from the chart?\n",
        "\n",
        "- The chart shows the top 10 business apps ranked by the number of installs. We can see the relative popularity of each app in terms of the number of installs they have received.\n",
        "\n",
        "3. Will the gained insights help creating a positive business impact? Are there any insights that lead to negative growth? Justify with specific reason.\n",
        "\n",
        "\n",
        "- Yes, the gained insights can help create a positive business impact. By identifying the top 10 business apps with the highest number of installs, businesses can gain insights into the preferences and demands of users. This information can be used to develop similar or complementary apps, optimize marketing strategies, and improve user engagement.\n",
        "\n",
        "- Based on the provided graph, there is no direct insight that suggests negative growth. However, it's important to note that the popularity of apps can change over time, and new apps may emerge that could potentially impact the market share of existing apps. Regular monitoring and analysis of market trends are essential to identify any negative growth patterns and adapt business strategies accordingly."
      ],
      "metadata": {
        "id": "wpDddkMwTM_X"
      }
    },
    {
      "cell_type": "markdown",
      "source": [
        "#### 5. Price"
      ],
      "metadata": {
        "id": "qniC4UAd1uJD"
      }
    },
    {
      "cell_type": "markdown",
      "source": [
        "#### **Histogram**"
      ],
      "metadata": {
        "id": "OH-pJp9IphqM"
      }
    },
    {
      "cell_type": "code",
      "source": [
        "plt.figure(figsize=(10, 6))\n",
        "plt.hist(play_store_data['Price'], bins=20, edgecolor='k')\n",
        "plt.xlabel('Price')\n",
        "plt.ylabel('Count')\n",
        "plt.title('Distribution of App Prices')\n",
        "plt.show()\n"
      ],
      "metadata": {
        "id": "kuRf4wtuphqN"
      },
      "execution_count": null,
      "outputs": []
    },
    {
      "cell_type": "markdown",
      "source": [
        "##### 1. Why did you pick the specific chart?"
      ],
      "metadata": {
        "id": "bbFf2-_FphqN"
      }
    },
    {
      "cell_type": "markdown",
      "source": [
        "Answer : I picked the histogram chart to analyze the distribution of app prices because it provides a visual representation of the frequency of different price ranges."
      ],
      "metadata": {
        "id": "loh7H2nzphqN"
      }
    },
    {
      "cell_type": "markdown",
      "source": [
        "##### 2. What is/are the insight(s) found from the chart?"
      ],
      "metadata": {
        "id": "_ouA3fa0phqN"
      }
    },
    {
      "cell_type": "markdown",
      "source": [
        "Answer : The insight from the chart is that the majority of apps have a price of 0, indicating that free apps are the most downloaded or installed. There are fewer apps with higher price points, and the distribution of prices is skewed towards lower values."
      ],
      "metadata": {
        "id": "VECbqPI7phqN"
      }
    },
    {
      "cell_type": "markdown",
      "source": [
        "##### 3. Will the gained insights help creating a positive business impact?\n",
        "Are there any insights that lead to negative growth? Justify with specific reason."
      ],
      "metadata": {
        "id": "Seke61FWphqN"
      }
    },
    {
      "cell_type": "markdown",
      "source": [
        "Answer : The gained insight that free apps are the most downloaded or installed can have a positive business impact. It suggests that offering free apps can attract a larger user base and potentially lead to increased engagement and revenue through other monetization strategies such as in-app purchases, advertisements, or premium upgrades.\n",
        "\n",
        "There is no specific insight from this chart that directly indicates negative growth. However, if the majority of apps are offered for free, it may create a competitive market where users have less willingness to pay for apps. This could potentially impact the revenue generation from paid apps or limit the opportunities for monetization solely based on app prices. Businesses should consider alternative revenue models or strategies to mitigate any potential negative impact."
      ],
      "metadata": {
        "id": "DW4_bGpfphqN"
      }
    },
    {
      "cell_type": "markdown",
      "source": [
        "#### **Box Plot**"
      ],
      "metadata": {
        "id": "PIIx-8_IphqN"
      }
    },
    {
      "cell_type": "code",
      "source": [
        "plt.figure(figsize=(10, 6))\n",
        "sns.boxplot(x='Price', data=play_store_data)\n",
        "plt.xlabel('Price')\n",
        "plt.title('Distribution of App Prices')\n",
        "plt.show()"
      ],
      "metadata": {
        "id": "lqAIGUfyphqO"
      },
      "execution_count": null,
      "outputs": []
    },
    {
      "cell_type": "markdown",
      "source": [
        "##### 1. Why did you pick the specific chart?"
      ],
      "metadata": {
        "id": "t27r6nlMphqO"
      }
    },
    {
      "cell_type": "markdown",
      "source": [
        "Answer : I picked the box plot chart to analyze the distribution of app prices because it provides information about the quartiles, median, outliers, and overall distribution of the data."
      ],
      "metadata": {
        "id": "iv6ro40sphqO"
      }
    },
    {
      "cell_type": "markdown",
      "source": [
        "##### 2. What is/are the insight(s) found from the chart?"
      ],
      "metadata": {
        "id": "r2jJGEOYphqO"
      }
    },
    {
      "cell_type": "markdown",
      "source": [
        "Answer : The insights from the chart are:\n",
        "\n",
        "- The majority of apps have prices in the range of 0 to 50.\n",
        "- There are a few apps with significantly higher prices, indicated by the presence of outliers."
      ],
      "metadata": {
        "id": "Po6ZPi4hphqO"
      }
    },
    {
      "cell_type": "markdown",
      "source": [
        "##### 3. Will the gained insights help creating a positive business impact?\n",
        "Are there any insights that lead to negative growth? Justify with specific reason."
      ],
      "metadata": {
        "id": "b0JNsNcRphqO"
      }
    },
    {
      "cell_type": "markdown",
      "source": [
        "Answer : The gained insights can help in creating a positive business impact by understanding the pricing landscape of apps. Apps within the 0-50 price range seem to be more popular and have a higher likelihood of being downloaded or installed. This suggests that setting prices within this range may lead to higher adoption and user engagement, which can positively impact the business. However, the presence of outliers with higher prices indicates that there might be niche markets or specialized apps that can justify higher price points. Exploring these opportunities can help target specific customer segments and potentially drive revenue growth.\n",
        "\n",
        "Overall, the insights gained from the chart can inform pricing strategies, product positioning, and business decisions related to app monetization."
      ],
      "metadata": {
        "id": "xvSq8iUTphqO"
      }
    },
    {
      "cell_type": "markdown",
      "source": [
        "#### 6. **Content Rating**"
      ],
      "metadata": {
        "id": "PL5C-6PF2Fvc"
      }
    },
    {
      "cell_type": "markdown",
      "source": [
        "#### **Count Plot**"
      ],
      "metadata": {
        "id": "BZR9WyysphqO"
      }
    },
    {
      "cell_type": "code",
      "source": [
        "plt.figure(figsize=(10, 6))\n",
        "sns.countplot(x='Content Rating', data=play_store_data)\n",
        "plt.xlabel('Content Rating')\n",
        "plt.ylabel('Count')\n",
        "plt.title('Count of Apps in Each Content Rating Category')\n",
        "plt.show()\n"
      ],
      "metadata": {
        "id": "TdPTWpAVphqO"
      },
      "execution_count": null,
      "outputs": []
    },
    {
      "cell_type": "markdown",
      "source": [
        "##### 1. Why did you pick the specific chart?"
      ],
      "metadata": {
        "id": "jj7wYXLtphqO"
      }
    },
    {
      "cell_type": "markdown",
      "source": [
        "Answer : I picked the count plot chart because it helps visualize the count or frequency of apps in each content rating category, providing a clear comparison between different categories."
      ],
      "metadata": {
        "id": "Ob8u6rCTphqO"
      }
    },
    {
      "cell_type": "markdown",
      "source": [
        "##### 2. What is/are the insight(s) found from the chart?"
      ],
      "metadata": {
        "id": "eZrbJ2SmphqO"
      }
    },
    {
      "cell_type": "markdown",
      "source": [
        "Answer : The insights from the chart are:\n",
        "\n",
        "- The majority of apps in the dataset have a content rating of \"Everyone,\" indicating that they are suitable for all age groups.\n",
        "- The count of apps decreases as we move towards more restrictive content ratings such as \"Teen,\" \"Mature 17+,\" and \"Everyone 10+.\"\n",
        "- There are no apps with the content ratings \"Adults\" and \"Unrated\" in the dataset."
      ],
      "metadata": {
        "id": "mZtgC_hjphqO"
      }
    },
    {
      "cell_type": "markdown",
      "source": [
        "##### 3. Will the gained insights help creating a positive business impact?\n",
        "Are there any insights that lead to negative growth? Justify with specific reason."
      ],
      "metadata": {
        "id": "rFu4xreNphqO"
      }
    },
    {
      "cell_type": "markdown",
      "source": [
        "Answer : The gained insights can help in creating a positive business impact by understanding the distribution of apps across different content rating categories. This information can guide developers and businesses in developing and targeting apps that cater to specific age groups. By aligning the content rating of their apps with the preferences and requirements of the target audience, businesses can enhance user satisfaction, engagement, and ultimately, the success of their apps.\n",
        "\n",
        "There are no insights in this chart that lead to negative growth. The absence of apps in the \"Adults\" and \"Unrated\" categories could suggest a lack of demand or availability of such apps in the dataset. However, it is important to note that this conclusion is based on the given dataset and may not reflect the entire app market. Further market research and analysis would be required to fully understand the impact of content rating categories on business growth."
      ],
      "metadata": {
        "id": "ey_0qi68phqO"
      }
    },
    {
      "cell_type": "code",
      "source": [
        "plt.figure(figsize=(20, 16))\n",
        "sns.countplot(x='Content Rating', data=play_store_data, hue='Category')\n",
        "plt.xlabel('Content Rating')\n",
        "plt.ylabel('Count')\n",
        "plt.title('Distribution of Apps across Content Rating Categories')\n",
        "plt.legend(title='Category', bbox_to_anchor=(1, 1))\n",
        "plt.show()\n"
      ],
      "metadata": {
        "id": "B2aS4O1ophqO"
      },
      "execution_count": null,
      "outputs": []
    },
    {
      "cell_type": "code",
      "source": [
        "plt.figure(figsize=(20, 16))\n",
        "ax = sns.countplot(x='Content Rating', data=play_store_data, hue='Category')\n",
        "\n",
        "# Add index labels to the bars\n",
        "for p in ax.patches:\n",
        "    ax.annotate(f\"{p.get_height():.0f}\", (p.get_x() + p.get_width() / 2, p.get_height()), ha='center', va='bottom')\n",
        "\n",
        "plt.xlabel('Content Rating')\n",
        "plt.ylabel('Count')\n",
        "plt.title('Distribution of Apps across Content Rating Categories')\n",
        "plt.legend(title='Category', bbox_to_anchor=(1, 1))\n",
        "plt.show()\n"
      ],
      "metadata": {
        "id": "yk9n24xo7bY1"
      },
      "execution_count": null,
      "outputs": []
    },
    {
      "cell_type": "markdown",
      "source": [
        "##### 1. Why did you pick the specific chart?"
      ],
      "metadata": {
        "id": "gCFgpxoyphqP"
      }
    },
    {
      "cell_type": "markdown",
      "source": [
        "Answer : The specific chart used here is a count plot, which is suitable for visualizing the distribution of categorical data. It provides a clear overview of the count of apps in each content rating category."
      ],
      "metadata": {
        "id": "TVxDimi2phqP"
      }
    },
    {
      "cell_type": "markdown",
      "source": [
        "##### 2. What is/are the insight(s) found from the chart?"
      ],
      "metadata": {
        "id": "OVtJsKN_phqQ"
      }
    },
    {
      "cell_type": "markdown",
      "source": [
        "Answer : Insights from the chart:\n",
        "\n",
        "- The content rating category \"Everyone\" has the highest count of apps.\n",
        "- Within the \"Everyone\" category, the \"Family\" category has the highest count of apps.\n",
        "- The \"Teen\" category has the highest count of apps in the \"Game\" category.\n",
        "- The \"Everyone 10+\" category also has the highest count of apps in the \"Game\" category.\n",
        "- The \"Mature 17+\" category has the highest count of apps in the \"Entertainment\" category.\n",
        "- The \"Adults only 18+\" and \"Unrated\" categories have zero count, indicating a lack of apps in those categories."
      ],
      "metadata": {
        "id": "ngGi97qjphqQ"
      }
    },
    {
      "cell_type": "markdown",
      "source": [
        "##### 3. Will the gained insights help creating a positive business impact?\n",
        "Are there any insights that lead to negative growth? Justify with specific reason."
      ],
      "metadata": {
        "id": "lssrdh5qphqQ"
      }
    },
    {
      "cell_type": "markdown",
      "source": [
        "Answer : The gained insights can potentially help in creating a positive business impact by understanding the popular categories within each content rating. This information can be used to focus on developing and promoting apps in those popular categories, which may attract more users and generate higher revenue.\n",
        "\n",
        "There are no specific insights that directly lead to negative growth. However, the lack of apps in the \"Adults only 18+\" and \"Unrated\" categories may indicate a limited market or demand in those categories. This information can be useful for businesses to prioritize their resources and focus on categories that have higher potential for growth and profitability."
      ],
      "metadata": {
        "id": "tBpY5ekJphqQ"
      }
    },
    {
      "cell_type": "markdown",
      "source": [],
      "metadata": {
        "id": "f3q0pVGHHplu"
      }
    },
    {
      "cell_type": "markdown",
      "source": [
        "### TOP 10 Expensive Apps in PlayStore"
      ],
      "metadata": {
        "id": "KFt_O94WUrYh"
      }
    },
    {
      "cell_type": "code",
      "source": [
        "top10PaidApps = play_store_data[play_store_data['Type'] == 'Paid'].sort_values(by='Price', ascending=False).head(11)"
      ],
      "metadata": {
        "id": "NHK85s2zU3IA"
      },
      "execution_count": null,
      "outputs": []
    },
    {
      "cell_type": "code",
      "source": [
        "# Dropping name of app to make graph look cleaner\n",
        "top10PaidApps_df = top10PaidApps[['App', 'Installs']].drop(9934)"
      ],
      "metadata": {
        "id": "UVIn6dtPVKaY"
      },
      "execution_count": null,
      "outputs": []
    },
    {
      "cell_type": "code",
      "source": [
        "plt.figure(figsize=(15,12));\n",
        "plt.pie(top10PaidApps_df.Installs, explode=None, labels=top10PaidApps_df.App, autopct='%1.1f%%', startangle=0);\n",
        "plt.title('Top Expensive Apps Distribution',size = 20);\n",
        "plt.legend(top10PaidApps_df.App,\n",
        "           loc=\"lower right\",\n",
        "           title=\"Apps\",\n",
        "           fontsize = \"x-small\"\n",
        "          );"
      ],
      "metadata": {
        "id": "gWc8znZFVSWw"
      },
      "execution_count": null,
      "outputs": []
    },
    {
      "cell_type": "markdown",
      "source": [
        "1. Why did you pick the specific chart?\n",
        "\n",
        "- The donut chart was chosen to visualize the distribution of installs among the top expensive apps. The donut chart effectively displays the proportions of installs for each app, allowing for easy comparison and understanding of the distribution.\n",
        "\n",
        "2. What is/are the insight(s) found from the chart?\n",
        "\n",
        "- The chart provides insights into the distribution of installs among the top expensive apps. From the chart, you can observe the percentage of installs for each app and identify the apps that have the highest and lowest proportion of installs. In this case, \"I am rich\" app has the highest percentage of installs at 52.1%, followed by \"I Am Rich Pro\" at 28.6%, and \"I am rich (premium)\" at 3.1%, among others.\n",
        "\n",
        "3. Will the gained insights help creating a positive business impact? Are there any insights that lead to negative growth? Justify with specific reason.\n",
        "\n",
        "- The gained insights can provide useful information for businesses to understand the popularity and demand for expensive apps. By analyzing the distribution of installs, businesses can identify which apps are attracting the most users and generating higher revenues. This information can help in decision-making related to pricing strategies, app development, and marketing efforts, potentially leading to a positive business impact.\n",
        "\n",
        "- The insights from the chart alone do not indicate any negative growth. However, it's important to consider various factors such as the overall market demand, competition, and user preferences. If the expensive apps in the top distribution do not offer substantial value or fail to meet user expectations, it may lead to negative growth. Users may be less willing to install or pay for these apps, resulting in lower revenues and potential negative impact on the business. It's crucial to assess the market dynamics and align the app offerings with user needs to avoid negative growth scenarios."
      ],
      "metadata": {
        "id": "iLQUVbfaYf-p"
      }
    },
    {
      "cell_type": "markdown",
      "source": [
        "### Apps with the highest number of reviews in PlayStore"
      ],
      "metadata": {
        "id": "-YtisRQTZo-J"
      }
    },
    {
      "cell_type": "code",
      "source": [
        "# Sort the play_store_data DataFrame by 'Reviews' column in descending order\n",
        "top_reviews_apps = play_store_data.sort_values(by='Reviews', ascending=False)\n",
        "\n",
        "# Select the top 10 apps with the highest number of reviews\n",
        "top10_reviews_apps = top_reviews_apps.head(10)\n",
        "\n",
        "# Plot the bar graph\n",
        "plt.figure(figsize=(12, 6))\n",
        "sns.barplot(x='Reviews', y='App', data=top10_reviews_apps)\n",
        "plt.xlabel('Number of Reviews')\n",
        "plt.ylabel('App')\n",
        "plt.title('Top 10 Apps with the Highest Number of Reviews')\n",
        "plt.show()\n"
      ],
      "metadata": {
        "id": "UjPX0BCOZfTY"
      },
      "execution_count": null,
      "outputs": []
    },
    {
      "cell_type": "markdown",
      "source": [
        "\n",
        "I picked the bar chart because it is suitable for comparing the number of reviews for different apps. The horizontal orientation of the bars makes it easy to read and compare the values.\n",
        "\n",
        "The insight from the chart is that the app with the highest number of reviews is at the top, and the number of reviews decreases as you move down the chart. It helps identify the most popular apps based on user reviews.\n",
        "\n",
        "The gained insights can help create a positive business impact. Apps with a high number of reviews indicate a larger user base and potentially higher user engagement. This information can be useful for app developers and businesses to understand user preferences, improve their app offerings, and make informed decisions for business growth.\n",
        "\n",
        "There are no insights in this chart that directly indicate negative growth. However, it is possible that apps with a low number of reviews may indicate lower popularity or less user satisfaction, which could impact the app's growth and success."
      ],
      "metadata": {
        "id": "7-sqpSUjaGUu"
      }
    },
    {
      "cell_type": "markdown",
      "source": [
        "### Apps with the highest earning in PlayStore"
      ],
      "metadata": {
        "id": "KETyPAsJbA7C"
      }
    },
    {
      "cell_type": "code",
      "source": [
        "Paid_Apps = play_store_data[play_store_data['Type'] == 'Paid']\n",
        "earnings = Paid_Apps[['App', 'Installs', 'Price']]\n",
        "earnings['Earnings'] = earnings['Installs'] * earnings['Price']"
      ],
      "metadata": {
        "id": "p3ArE1USbaSI"
      },
      "execution_count": null,
      "outputs": []
    },
    {
      "cell_type": "code",
      "source": [
        "# Sort the dataset by earnings in descending order\n",
        "sorted_earning_apps = earnings.sort_values(by='Earnings', ascending=False)\n",
        "\n",
        "# Select the top 10 apps with the highest earnings\n",
        "top_earning_apps = sorted_earning_apps.head(10)\n",
        "\n",
        "# Print the apps with the highest earnings\n",
        "print(top_earning_apps[['App', 'Earnings']])"
      ],
      "metadata": {
        "id": "947tXSN8bMj4"
      },
      "execution_count": null,
      "outputs": []
    },
    {
      "cell_type": "code",
      "source": [
        "plt.figure(figsize=(10, 6))\n",
        "plt.bar(top_earning_apps['App'], top_earning_apps['Earnings'])\n",
        "plt.xlabel('Apps')\n",
        "plt.ylabel('Earnings')\n",
        "plt.title('Apps with Highest Earnings')\n",
        "plt.xticks(rotation=45)\n",
        "plt.show()"
      ],
      "metadata": {
        "id": "Xj1Glhcwb414"
      },
      "execution_count": null,
      "outputs": []
    },
    {
      "cell_type": "markdown",
      "source": [
        "1. Why did you pick the specific chart?\n",
        "\n",
        "- I chose a bar chart because it effectively compares the earnings of different apps. The horizontal bars make it easy to visualize and compare the earnings of each app.\n",
        "\n",
        "2. What is/are the insight(s) found from the chart?\n",
        "\n",
        "- From the chart, we can identify the top 10 apps with the highest earnings. We can see that 'Minecraft' app has the highest earnings and also see the relative differences in earnings between these apps.\n",
        "\n",
        "3. Will the gained insights help creating a positive business impact? Are there any insights that lead to negative growth? Justify with specific reason.\n",
        "\n",
        "- Yes, the gained insights can help create a positive business impact. By identifying the apps with the highest earnings, businesses can understand which types of apps or app features are generating significant revenue. This information can guide strategic decisions, such as focusing on app categories or features that have the potential for high earnings.\n",
        "\n",
        "- The graph itself does not provide insights that lead to negative growth. However, negative growth can occur if businesses solely focus on the top earning apps without considering other factors such as market trends, user demands, and competition. It's essential to analyze various aspects of the app market to ensure sustained growth and avoid negative impacts."
      ],
      "metadata": {
        "id": "PspX0qfdcASc"
      }
    },
    {
      "cell_type": "markdown",
      "source": [
        "### Percentage of Free Vs Paid Apps"
      ],
      "metadata": {
        "id": "7DWHLl404YqK"
      }
    },
    {
      "cell_type": "code",
      "source": [
        "# Count the number of free and paid apps\n",
        "free_apps_count = play_store_data[play_store_data['Type'] == 'Free'].shape[0]\n",
        "paid_apps_count = play_store_data[play_store_data['Type'] == 'Paid'].shape[0]\n",
        "\n",
        "# Create a pie chart\n",
        "labels = ['Free', 'Paid']\n",
        "sizes = [free_apps_count, paid_apps_count]\n",
        "explode = (0.1, 0)  # To highlight the 'Free' segment\n",
        "\n",
        "plt.figure(figsize=(6, 6))\n",
        "plt.pie(sizes, explode=explode, labels=labels, autopct='%1.1f%%', startangle=90)\n",
        "plt.title('Percentage of Free vs Paid Apps')\n",
        "plt.axis('equal')  # Equal aspect ratio ensures a circular pie\n",
        "plt.show()"
      ],
      "metadata": {
        "id": "JhtZehSH4bDZ"
      },
      "execution_count": null,
      "outputs": []
    },
    {
      "cell_type": "markdown",
      "source": [
        "1. Why did you pick the specific chart?\n",
        "\n",
        "- I chose a pie chart because it effectively shows the composition of the whole (total apps) in terms of free vs paid apps. The segments of the pie represent the percentage distribution of each category.\n",
        "\n",
        "2. What is/are the insight(s) found from the chart?\n",
        "\n",
        "- The chart reveals that a significant majority of apps in the store (92.6%) are free, while a smaller portion (7.4%) are paid. This indicates that the majority of users prefer free apps over paid ones.\n",
        "\n",
        "3. Will the gained insights help creating a positive business impact? Are there any insights that lead to negative growth? Justify with specific reason.\n",
        "\n",
        "- The insights suggest that offering free apps can be advantageous in terms of attracting a larger user base and potentially generating revenue through alternative monetization strategies such as in-app purchases, advertisements, or premium features. However, it is essential to carefully consider the target market, competition, and specific app offerings to ensure a positive business impact.\n",
        "\n",
        "- The dominance of free apps does not necessarily lead to negative growth. However, if a business solely relies on free apps without implementing effective monetization strategies, it may face challenges in generating revenue and sustaining growth. It is important to strike a balance between free and paid offerings, catering to user preferences while also ensuring sustainable business growth.\n",
        "Overall, the insights gained from the graph highlight the prominence of free apps in the store and can guide businesses in making informed decisions regarding their pricing models, monetization strategies, and overall app development and marketing efforts."
      ],
      "metadata": {
        "id": "j2x1rG7r7Smy"
      }
    },
    {
      "cell_type": "markdown",
      "source": [
        "### WordCloud\n",
        "\n"
      ],
      "metadata": {
        "id": "Vyiat28j8F6D"
      }
    },
    {
      "cell_type": "markdown",
      "source": [
        "#### Words in the Clouds"
      ],
      "metadata": {
        "id": "7_CAHSnw8Wgp"
      }
    },
    {
      "cell_type": "code",
      "source": [
        "#subsetting df\n",
        "df_word_cloud = play_store_data[['Category','App']]\n",
        "text = \" \".join(word for word in df_word_cloud.App)\n",
        "# Create stopword list:\n",
        "stopwords = set(STOPWORDS)\n",
        "# Generate a word cloud image\n",
        "wordcloud = WordCloud(stopwords=stopwords, background_color=\"white\").generate(text)\n",
        "# Display the generated image:\n",
        "# the matplotlib way:\n",
        "plt.imshow(wordcloud, interpolation='bilinear')\n",
        "plt.axis(\"off\")\n",
        "plt.show()"
      ],
      "metadata": {
        "id": "hFWQpe5b8LLi"
      },
      "execution_count": null,
      "outputs": []
    },
    {
      "cell_type": "markdown",
      "source": [
        "#### Word cloud for top categories"
      ],
      "metadata": {
        "id": "BExGhVC28jqN"
      }
    },
    {
      "cell_type": "code",
      "source": [
        "#word cloud for each category\n",
        "def func_select_Category(category_name):\n",
        "  df_word_cloud = play_store_data[['Category','App']]\n",
        "  df_word_cloud = df_word_cloud[df_word_cloud['Category']==category_name]\n",
        "  text = \" \".join(word for word in df_word_cloud.App)\n",
        "  # Create stopword list:\n",
        "  stopwords = set(STOPWORDS)\n",
        "  # Generate a word cloud image\n",
        "  wordcloud = WordCloud(stopwords=stopwords, background_color=\"white\").generate(text)\n",
        "  # Display the generated image:\n",
        "  # the matplotlib way:\n",
        "  plt.imshow(wordcloud, interpolation='bilinear')\n",
        "  plt.axis(\"off\")\n",
        "  plt.show()\n",
        "\n",
        "func_select_Category('GAME')"
      ],
      "metadata": {
        "id": "a19REqdy8qCx"
      },
      "execution_count": null,
      "outputs": []
    },
    {
      "cell_type": "code",
      "source": [
        "func_select_Category('COMMUNICATION')"
      ],
      "metadata": {
        "id": "fZejYsPC80rT"
      },
      "execution_count": null,
      "outputs": []
    },
    {
      "cell_type": "code",
      "source": [
        "func_select_Category('SOCIAL')"
      ],
      "metadata": {
        "id": "hI5BWZXW85Oq"
      },
      "execution_count": null,
      "outputs": []
    },
    {
      "cell_type": "markdown",
      "source": [
        "#### Words in the Clouds"
      ],
      "metadata": {
        "id": "aiNZCQ118jyM"
      }
    },
    {
      "cell_type": "markdown",
      "source": [
        "## **USER REVIEW DATASET**"
      ],
      "metadata": {
        "id": "dqx2RrBy9UFo"
      }
    },
    {
      "cell_type": "markdown",
      "source": [
        "### ***Univariate Analysis***"
      ],
      "metadata": {
        "id": "wp0U9sWWAeIS"
      }
    },
    {
      "cell_type": "markdown",
      "source": [
        "#### **Count Plot**"
      ],
      "metadata": {
        "id": "h4cg_-7kB7rc"
      }
    },
    {
      "cell_type": "code",
      "source": [
        "plt.figure(figsize=(8, 6))\n",
        "sns.countplot(x='Sentiment', data=user_review_data)\n",
        "plt.xlabel('Sentiment')\n",
        "plt.ylabel('Count')\n",
        "plt.title('Distribution of Sentiments')\n",
        "plt.show()"
      ],
      "metadata": {
        "id": "kAa-kVdAAnlt"
      },
      "execution_count": null,
      "outputs": []
    },
    {
      "cell_type": "markdown",
      "source": [
        "1. Why did you pick the specific chart?\n",
        "\n",
        "- I picked the specific chart, i.e., the countplot, because it is suitable for visualizing the distribution of categorical data, such as different sentiments in this case. It provides a clear representation of the number of occurrences of each sentiment category.\n",
        "\n",
        "2. What is/are the insight(s) found from the chart?\n",
        "\n",
        "- The insights from the chart are:\n",
        "\n",
        "  - The majority of the reviews have a positive sentiment, followed by negative and neutral sentiments.\n",
        "  - The count of positive sentiments is higher compared to negative sentiments, indicating that users tend to express more positive opinions in their reviews.\n",
        "  - The count of neutral sentiments is relatively lower, suggesting that users often have a more polarized opinion rather than a neutral one.\n",
        "\n",
        "3. Will the gained insights help creating a positive business impact? Are there any insights that lead to negative growth? Justify with specific reason\n",
        "\n",
        "- The gained insights can help create a positive business impact by understanding the sentiment distribution among user reviews. By identifying the higher count of positive sentiments, businesses can assess customer satisfaction and identify areas where they are performing well. This information can be used to reinforce positive aspects of their products or services and further enhance customer experience. Additionally, by monitoring the count of negative sentiments, businesses can identify areas of improvement and address customer concerns promptly, which can lead to a more positive business impact.\n",
        "\n",
        "- It's important to note that while a higher count of negative sentiments might indicate areas for improvement, it does not necessarily imply negative growth. Negative sentiments provide an opportunity for businesses to identify and address customer pain points, leading to improvements and potentially positive growth in the long run.\n",
        "\n",
        "\n",
        "\n",
        "\n",
        "\n",
        "\n"
      ],
      "metadata": {
        "id": "U1CMOagPBg-F"
      }
    },
    {
      "cell_type": "markdown",
      "source": [
        "#### **Histogram Plot**"
      ],
      "metadata": {
        "id": "nGz4BL65CHnQ"
      }
    },
    {
      "cell_type": "code",
      "source": [
        "plt.figure(figsize=(8, 6))\n",
        "plt.hist(user_review_data['Sentiment_Polarity'].dropna(), bins=20, edgecolor='k')\n",
        "plt.xlabel('Sentiment Polarity')\n",
        "plt.ylabel('Count')\n",
        "plt.title('Distribution of Sentiment Polarity')\n",
        "plt.show()"
      ],
      "metadata": {
        "id": "DqS-kYQ6Aqyq"
      },
      "execution_count": null,
      "outputs": []
    },
    {
      "cell_type": "markdown",
      "source": [
        "1. Why did you pick the specific chart?\n",
        "- I picked the specific chart, i.e., the histogram, because it allows us to visualize the distribution of the sentiment polarity values. It helps us understand the frequency or count of sentiment polarity values falling within different ranges or bins.\n",
        "\n",
        "2. What is/are the insight(s) found from the chart?\n",
        "\n",
        "- The insights from the chart are:\n",
        "\n",
        "  - The majority of sentiment polarity values fall within the range of 0.00 to 0.23.\n",
        "  - There are fewer sentiment polarity values in the negative range (below 0) compared to the positive range (above 0).\n",
        "  - The distribution is skewed towards positive sentiment polarity values, indicating that the majority of reviews have a positive sentiment.\n",
        "\n",
        "3. Will the gained insights help creating a positive business impact? Are there any insights that lead to negative growth? Justify with specific reason\n",
        "\n",
        "- The gained insights can help create a positive business impact by understanding the distribution of sentiment polarity in user reviews. It suggests that there is a tendency for users to express more positive sentiment in their reviews. This information can be valuable for businesses in several ways:\n",
        "\n",
        "  - They can identify the aspects of their products or services that are well-received and leverage them to enhance customer satisfaction further.\n",
        "  - It can provide an indication of the overall sentiment towards their brand, helping them gauge customer sentiment and make informed decisions.\n",
        "  - By monitoring the sentiment polarity distribution over time, businesses can track changes in customer sentiment and take proactive measures to address any potential negative shifts.\n",
        "\n",
        "These insights do not necessarily indicate negative growth. Instead, they provide an opportunity for businesses to capitalize on positive sentiment and identify areas where improvements can be made. By leveraging positive sentiment and addressing any negative sentiment, businesses can work towards creating a positive business impact and foster customer satisfaction and loyalty."
      ],
      "metadata": {
        "id": "FsqlbTqmCvj9"
      }
    },
    {
      "cell_type": "code",
      "source": [
        "plt.figure(figsize=(8, 6))\n",
        "plt.hist(user_review_data['Sentiment_Subjectivity'].dropna(), bins=20, edgecolor='k')\n",
        "plt.xlabel('Sentiment Subjectivity')\n",
        "plt.ylabel('Count')\n",
        "plt.title('Distribution of Sentiment Subjectivity')\n",
        "plt.show()"
      ],
      "metadata": {
        "id": "d7HF9eFdAvr5"
      },
      "execution_count": null,
      "outputs": []
    },
    {
      "cell_type": "markdown",
      "source": [
        "1. Why did you pick the specific chart?\n",
        "\n",
        "- I picked the specific chart, i.e., the histogram, because it allows us to visualize the distribution of the sentiment subjectivity values. It helps us understand the frequency or count of sentiment subjectivity values falling within different ranges or bins.\n",
        "\n",
        "2. What is/are the insight(s) found from the chart?\n",
        "\n",
        "- The insights from the chart are:\n",
        "\n",
        "  - The majority of sentiment subjectivity values are concentrated around 0.00, indicating a high frequency of objective or factual reviews.\n",
        "  - There is also a notable count of sentiment subjectivity values in the range of 0.35 to 0.70, suggesting a moderate level of subjectivity in some reviews.\n",
        "  - The distribution is skewed towards lower subjectivity values, indicating that a significant number of reviews are more objective in nature.\n",
        "\n",
        "3. Will the gained insights help creating a positive business impact? Are there any insights that lead to negative growth? Justify with specific reason\n",
        "\n",
        "- The gained insights can help create a positive business impact by understanding the distribution of sentiment subjectivity in user reviews. Here's how it can be beneficial:\n",
        "\n",
        "  - Businesses can identify reviews with higher subjectivity, indicating a more opinionated or emotional tone. These reviews may provide valuable insights into customer preferences, sentiments, and experiences.\n",
        "  - Objective reviews can help businesses gauge the factual information provided by users, such as product features, functionalities, or service descriptions.\n",
        "  - By considering both objective and subjective reviews, businesses can gain a comprehensive understanding of customer feedback and use it to improve their products or services accordingly.\n",
        "\n",
        "These insights do not necessarily indicate negative growth. Instead, they provide businesses with valuable information about the nature of reviews, allowing them to make informed decisions and take appropriate actions to enhance their offerings and address any concerns or areas of improvement\n"
      ],
      "metadata": {
        "id": "F6mxk_o4D28P"
      }
    },
    {
      "cell_type": "markdown",
      "source": [
        "### ***Bivariate Analysis***"
      ],
      "metadata": {
        "id": "w_faL-qxEdCJ"
      }
    },
    {
      "cell_type": "markdown",
      "source": [
        "#### Check for correlation between column of numeric types"
      ],
      "metadata": {
        "id": "QB04aL_3-KKW"
      }
    },
    {
      "cell_type": "code",
      "source": [
        "user_review_data[['Sentiment_Polarity','Sentiment_Subjectivity']].dropna().corr()"
      ],
      "metadata": {
        "id": "Z19vEYTn-Q6-"
      },
      "execution_count": null,
      "outputs": []
    },
    {
      "cell_type": "markdown",
      "source": [
        "Correlation between 'Sentiment_Polarity' and 'Sentiment_Subjectivity': 0.261651\n",
        "Now, let's address your questions:\n",
        "\n",
        "1. Why did you pick the specific chart?\n",
        "- It appears that there might be a misunderstanding or a missing code snippet, as the correlation matrix you provided is not related to the chart mentioned. Please provide the correct code snippet or clarify the analysis you would like to perform.\n",
        "\n",
        "2. What is/are the insight(s) found from the chart?\n",
        "- Without the specific chart, it is not possible to provide insights. Please provide the correct code snippet or specify the chart you would like to analyze.\n",
        "\n",
        "3. Will the gained insights help creating a positive business impact? Are there any insights that lead to negative growth? Justify with specific reason.\n",
        "- Since we don't have the insights or specific chart, it is not possible to determine the impact on business or any insights leading to negative growth. Once the correct chart or analysis is provided, I will be able to provide a more accurate response.\n",
        "\n",
        "\n",
        "\n",
        "\n"
      ],
      "metadata": {
        "id": "AbU_OTLjFtaa"
      }
    },
    {
      "cell_type": "markdown",
      "source": [
        "#### **Scatter Plot**"
      ],
      "metadata": {
        "id": "ZPmX31hDGFmL"
      }
    },
    {
      "cell_type": "code",
      "source": [
        "sns.lmplot(x='Sentiment_Polarity', y='Sentiment_Subjectivity', data=user_review_data, fit_reg=True)"
      ],
      "metadata": {
        "id": "QGl2cQB2-bdL"
      },
      "execution_count": null,
      "outputs": []
    },
    {
      "cell_type": "markdown",
      "source": [
        "1. Why did you pick the specific chart?\n",
        "\n",
        "- The specific chart used is a scatter plot with a linear regression line (lmplot). This type of chart is suitable for visualizing the relationship between two continuous variables and determining if there is a correlation between them.\n",
        "\n",
        "2. What is/are the insight(s) found from the chart?\n",
        "\n",
        "- The scatter plot with the linear regression line suggests a positive correlation between the variables 'Sentiment_Polarity' and 'Sentiment_Subjectivity'. As the 'Sentiment_Polarity' increases, there is a tendency for 'Sentiment_Subjectivity' to also increase.\n",
        "\n",
        "3. Will the gained insights help creating a positive business impact? Are there any insights that lead to negative growth? Justify with specific reason.\n",
        "\n",
        "- The positive correlation observed between 'Sentiment_Polarity' and 'Sentiment_Subjectivity' implies that as the sentiment polarity (positivity/negativity) of user reviews increases, the subjectivity (degree of objectivity/subjectivity) of the reviews also tends to increase. This insight can have a positive business impact in the following ways:\n",
        "  - Understanding the sentiment polarity and subjectivity of user reviews can provide insights into user perceptions, preferences, and opinions about products or services. This information can be used to identify areas of improvement, enhance customer satisfaction, and refine business strategies.\n",
        "  - Positive correlations between sentiment measures may indicate that highly positive or highly negative reviews tend to be more subjective. This understanding can help businesses differentiate between subjective opinions and objective feedback, allowing them to focus on addressing genuine concerns and improving customer experiences.\n",
        "  \n",
        "- It's important to note that while a positive correlation is observed in the graph, it does not necessarily imply causation. Further analysis and context-specific insights are required to fully understand the impact on business outcomes and growth.\n",
        "\n",
        "Overall, the gained insights from the scatter plot can contribute to making data-informed decisions and refining business strategies based on user sentiment and subjectivity analysis."
      ],
      "metadata": {
        "id": "S9S6R9js_f2J"
      }
    },
    {
      "cell_type": "markdown",
      "source": [
        "#### **Box Plot**"
      ],
      "metadata": {
        "id": "-40MNMCZGLLk"
      }
    },
    {
      "cell_type": "code",
      "source": [
        "sns.boxplot(data=user_review_data)"
      ],
      "metadata": {
        "id": "w1UxkaGAGYHN"
      },
      "execution_count": null,
      "outputs": []
    },
    {
      "cell_type": "markdown",
      "source": [
        "1. Why did you pick the specific chart?\n",
        "\n",
        "- Distribution: The boxplot provides information about the central tendency (median) and spread (interquartile range) of the data. It also shows if the distribution is symmetrical or skewed.\n",
        "\n",
        "2. What is/are the insight(s) found from the chart?\n",
        "\n",
        "- Outliers: Outliers are data points that fall significantly outside the whiskers of the boxplot. Identifying outliers can provide insights into extreme values or potential data errors.\n",
        "\n",
        "3. Will the gained insights help creating a positive business impact? Are there any insights that lead to negative growth? Justify with specific reason\n",
        "\n",
        "- Impact on business: Depending on the specific analysis and context, the insights gained from the boxplot can help identify areas of concern, detect anomalies, or understand the distribution of a variable. This information can be used to make informed decisions and potentially have a positive impact on business strategies."
      ],
      "metadata": {
        "id": "3v_YSZFbHDTa"
      }
    },
    {
      "cell_type": "code",
      "source": [
        "positive_reviews = user_review_data[user_review_data['Sentiment'] == 'Positive']\n",
        "positive_reviews_count = positive_reviews['App'].value_counts()\n",
        "top_10_apps = positive_reviews_count.head(10)\n"
      ],
      "metadata": {
        "id": "ASF5G2UgH3rf"
      },
      "execution_count": null,
      "outputs": []
    },
    {
      "cell_type": "markdown",
      "source": [
        "### ***Multi-variate Analysis***"
      ],
      "metadata": {
        "id": "yuhwKeVLHeu8"
      }
    },
    {
      "cell_type": "markdown",
      "source": [
        "#### **Top 10 apps having most number of positive review**"
      ],
      "metadata": {
        "id": "pZvituJoHo31"
      }
    },
    {
      "cell_type": "code",
      "source": [
        "plt.figure(figsize=(10, 6))\n",
        "top_10_apps.plot(kind='bar')\n",
        "plt.xlabel('App')\n",
        "plt.ylabel('Number of Positive Reviews')\n",
        "plt.title('Top 10 Apps with Most Positive Reviews')\n",
        "plt.show()"
      ],
      "metadata": {
        "id": "CeK-qB_zHmfG"
      },
      "execution_count": null,
      "outputs": []
    },
    {
      "cell_type": "markdown",
      "source": [
        "1. Why did you pick the specific chart?\n",
        "- I picked the bar chart because it is an effective way to visually compare the number of positive reviews for different apps. The bar chart allows us to easily identify the apps with the highest number of positive reviews and compare their magnitudes.\n",
        "\n",
        "2. What is/are the insight(s) found from the chart?\n",
        "- From the chart, we can see that \"Helix Jump\" has the highest number of positive reviews among the top 10 apps. It is followed by \"Duolingo\", \"Calorie Counter - Macros\", \"Calorie Counter - MyFitnessPal\", \"Bowmasters\", \"10 Best Foods for you\", \"Google Photos\", \"8fit Workouts & Meal Planner\", \"Garena Free Fire\", and \"DRAGON BALL LEGENDS\".\n",
        "\n",
        "3. Will the gained insights help creating a positive business impact? Are there any insights that lead to negative growth? Justify with specific reason.\n",
        "- The gained insights can indeed help create a positive business impact. Knowing the apps with the most positive reviews allows businesses to identify popular and well-received apps in the market. This information can help them understand user preferences, improve their own app offerings, and make strategic decisions to enhance customer satisfaction and engagement.\n",
        "\n",
        "There are no insights from this specific chart that directly indicate negative growth. However, it's important for businesses to also monitor and address any negative reviews they receive to prevent potential negative impacts on their reputation and user experience."
      ],
      "metadata": {
        "id": "g_jORzj8Kj9x"
      }
    },
    {
      "cell_type": "code",
      "source": [
        "negative_reviews = user_review_data[user_review_data['Sentiment'] == 'Negative']\n",
        "negative_reviews_count = negative_reviews['App'].value_counts()\n",
        "top_10_negative_apps = negative_reviews_count.head(10)"
      ],
      "metadata": {
        "id": "TBLqvUE-KvxR"
      },
      "execution_count": null,
      "outputs": []
    },
    {
      "cell_type": "markdown",
      "source": [
        "#### **Top 10 apps having most number of negative review**"
      ],
      "metadata": {
        "id": "_KoBvBWBK29g"
      }
    },
    {
      "cell_type": "code",
      "source": [
        "plt.figure(figsize=(10, 6))\n",
        "top_10_negative_apps.plot(kind='bar')\n",
        "plt.xlabel('App')\n",
        "plt.ylabel('Number of Negative Reviews')\n",
        "plt.title('Top 10 Apps with Most Negative Reviews')\n",
        "plt.show()"
      ],
      "metadata": {
        "id": "50dwO8JLK8Zs"
      },
      "execution_count": null,
      "outputs": []
    },
    {
      "cell_type": "markdown",
      "source": [
        "1. Why did you pick the specific chart?\n",
        "- I picked the bar chart because it is an effective way to visually compare the number of negative reviews for different apps. The bar chart allows us to easily identify the apps with the highest number of negative reviews and compare their magnitudes.\n",
        "\n",
        "2. What is/are the insight(s) found from the chart?\n",
        "- From the chart, we can see the top 10 apps with the most number of negative reviews. \"Angry Birds Classic\" has the highest number of negative reviews, followed by \"Candy Crush Saga,\" \"Bowmasters,\" \"8 Ball Pool,\" and others. This insight helps us understand which apps have received a significant number of negative reviews.\n",
        "\n",
        "3. Will the gained insights help creating a positive business impact? Are there any insights that lead to negative growth? Justify with specific reason.\n",
        "- The gained insights can help create a positive business impact by identifying the apps that are receiving a high number of negative reviews. This information can be used by app developers and business owners to analyze the reasons behind the negative reviews and take necessary actions to address the issues and improve the app's performance, user experience, and overall customer satisfaction. By addressing the concerns raised in the negative reviews, businesses can enhance their app's reputation, retain existing users, and attract new users. Neglecting the negative reviews and failing to address the issues may lead to negative growth as it can result in user dissatisfaction, decreased app usage, and potential loss of customers to competing apps."
      ],
      "metadata": {
        "id": "J6yTRPIZL0e5"
      }
    },
    {
      "cell_type": "markdown",
      "source": [
        "## **Project Motivation and Solution to Business Objective**"
      ],
      "metadata": {
        "id": "JcMwzZxoAimU"
      }
    },
    {
      "cell_type": "markdown",
      "source": [
        "#### What do you suggest the client to achieve Business Objective ?\n",
        "Explain Briefly."
      ],
      "metadata": {
        "id": "8G2x9gOozGDZ"
      }
    },
    {
      "cell_type": "markdown",
      "source": [
        "Answer : Based on the problem statement, the observations, results from various plots, confusion matrix, and other outputs, I would suggest the following strategies to the client to achieve their business objectives:\n",
        "\n",
        "1. Improve App Ratings: The client should prioritize improving app ratings by analyzing user sentiments and addressing any negative feedback. By understanding the factors contributing to negative sentiments, the client can make necessary improvements to their apps, such as enhancing features, addressing bugs or performance issues, and optimizing the user interface. This can lead to increased user satisfaction, positive reviews, and higher app ratings.\n",
        "\n",
        "2. Enhance User Engagement: The client should focus on enhancing user engagement within their apps. This can be achieved by offering personalized experiences, interactive features, and regular content updates. By analyzing user behavior and preferences, the client can tailor their apps to meet the specific needs and interests of their target audience. Increased user engagement can result in longer app usage sessions, higher retention rates, and positive word-of-mouth, ultimately driving business growth.\n",
        "\n",
        "3. Address User Concerns: It is crucial for the client to address user concerns and issues highlighted in the user reviews. By actively listening to user feedback and promptly addressing their concerns, the client can demonstrate their commitment to user satisfaction. This can include improving customer support, implementing bug fixes, providing clear instructions, and enhancing overall user experience. Addressing user concerns can lead to increased trust, loyalty, and positive reviews.\n",
        "\n",
        "4. Competitive Analysis: The client should conduct a thorough analysis of their competitors to identify areas where they can differentiate themselves and gain a competitive advantage. By understanding the strengths and weaknesses of competing apps, the client can identify opportunities for innovation and improvement. This may involve offering unique features, improving upon existing functionalities, or targeting specific market segments that are underserved by competitors. By positioning their apps effectively in the market, the client can attract more users and drive business growth.\n",
        "\n",
        "5. Data-Driven Decision Making: The client should leverage the insights gained from the analysis of the Google Play Store and user review data to make informed business decisions. By continuously monitoring user feedback, app performance metrics, and market trends, the client can identify patterns, trends, and areas of improvement. This data-driven approach can help the client optimize their app development, marketing strategies, and overall business operations, leading to positive business impact.\n",
        "\n",
        "Overall, by prioritizing app ratings improvement, enhancing user engagement, addressing user concerns, conducting competitive analysis, and adopting a data-driven decision-making approach, the client can work towards achieving their business objectives of attracting more users, increasing user satisfaction, and driving business growth in the highly competitive mobile app market."
      ],
      "metadata": {
        "id": "pASKb0qOza21"
      }
    },
    {
      "cell_type": "markdown",
      "source": [
        "Based on the EDA (Exploratory Data Analysis) and observations from the dataset, we can answer various types of questions and provide solutions related to the Google Play Store and user review data. Here are some examples:\n",
        "\n",
        "1. App Popularity Analysis: We can analyze the popularity of different app categories, identify the most downloaded or installed apps, and provide insights on the factors contributing to their success. This can help developers understand market trends and create apps that cater to popular demand.\n",
        "\n",
        "2. User Sentiment Analysis: By analyzing user reviews and sentiments, we can provide insights into user satisfaction, identify areas of improvement for apps, and suggest strategies for enhancing user engagement and positive reviews.\n",
        "\n",
        "3. Pricing Strategy: We can analyze the relationship between app prices and their popularity or revenue, and provide recommendations for pricing strategies that maximize revenue while ensuring competitiveness in the market.\n",
        "\n",
        "4. Competitor Analysis: By comparing app performance and features with competitors, we can provide insights on how to differentiate and gain a competitive edge in the market. This may involve identifying gaps in the market, targeting specific user segments, or improving upon existing features.\n",
        "\n",
        "5. Business Impact Evaluation: We can assess the impact of app ratings, user reviews, and other factors on business growth and revenue generation. This can help stakeholders understand the importance of user satisfaction and make data-driven decisions to drive positive business outcomes.\n",
        "\n",
        "The project's motivation lies in leveraging data analysis techniques to gain valuable insights into the Google Play Store ecosystem. By understanding user preferences, market trends, and app performance metrics, stakeholders can make informed decisions to improve app quality, enhance user experiences, and drive business success in the highly competitive mobile app industry.\n",
        "\n",
        "Now, these are some questions that can be answered using the Google Play Store and user review dataset:\n",
        "\n",
        "Q1. Which are the most popular app categories in terms of downloads or installs?\n",
        "\n",
        "Q2. What is the distribution of app ratings across different categories?\n",
        "\n",
        "Q3. How does the size of an app affect its popularity or user ratings?\n",
        "\n",
        "Q4. What is the correlation between app price and user ratings?\n",
        "Which app categories have the highest number of positive/negative user reviews?\n",
        "\n",
        "Q5. What are the sentiment trends in user reviews over time?\n",
        "\n",
        "Q6. How do app updates impact user ratings and reviews?\n",
        "\n",
        "Q6. Is there a relationship between app size and user ratings?\n",
        "\n",
        "Q7. How does the content rating of an app affect its popularity or user satisfaction?\n",
        "\n",
        "Q8. What are the most common keywords used in positive/negative user reviews?\n",
        "\n",
        "Q9. Which apps have the highest revenue based on their pricing strategy and number of downloads?\n",
        "\n",
        "Q10. Are there any specific app features or functionalities that receive more positive feedback from users?\n",
        "\n",
        "These are just a few examples, and the dataset provides a rich source of information to explore and derive valuable insights for various business and marketing strategies."
      ],
      "metadata": {
        "id": "66C86LWWO9Ee"
      }
    },
    {
      "cell_type": "markdown",
      "source": [
        "# **Conclusion**"
      ],
      "metadata": {
        "id": "gCX9965dhzqZ"
      }
    },
    {
      "cell_type": "markdown",
      "source": [
        "After conducting exploratory data analysis on the Google Play Store and user review dataset, we can derive the following insights and recommendations:\n",
        "\n",
        "1. Target Categories with High Demand and Low Quality: Based on the analysis, categories like Family, Games, and Communications show a high demand from users but a lack of quality apps. Developers can capitalize on this opportunity by creating high-quality apps in these categories to cater to the needs of users.\n",
        "\n",
        "2. Optimize App Size: The analysis indicates that most users prefer downloading apps that have a size below 100 MB. Developers should strive to optimize the size of their apps to enhance the user experience and attract more downloads.\n",
        "\n",
        "3. Consider a Hybrid Business Model: The data suggests that users are less inclined to download paid apps. Instead, they prefer free alternatives. However, relying solely on ad-supported models can lead to lower ratings. Developers should consider a hybrid business model that offers a free version with ads and provides users with the option to remove ads by paying a premium. This approach strikes a balance between monetization and user satisfaction.\n",
        "\n",
        "4. Enhance App Quality and User Experience: To ensure positive ratings and user satisfaction, developers should focus on delivering high-quality apps with smooth functionality, intuitive design, and regular updates. Incorporating user feedback and addressing any reported issues can significantly improve the overall user experience.\n",
        "\n",
        "By considering these insights and implementing the recommended strategies, developers can increase the likelihood of success in the Google Play Store. It is important to continuously analyze user feedback, monitor market trends, and adapt the app strategy accordingly to stay competitive and meet user expectations."
      ],
      "metadata": {
        "id": "Fjb1IsQkh3yE"
      }
    }
  ]
}